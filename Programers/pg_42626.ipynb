{
 "cells": [
  {
   "cell_type": "markdown",
   "metadata": {},
   "source": [
    "42626\n",
    "### [42626 더 맵게](https://programmers.co.kr/learn/courses/30/lessons/42626?language=python3)"
   ]
  },
  {
   "cell_type": "code",
   "execution_count": null,
   "metadata": {},
   "outputs": [],
   "source": [
    "'''\n",
    "힙을 쓰지 않고 풀어 보려고했지만\n",
    "효율성에서 힙을 쓰지 않고는 통과를 못할것같아 그냥 힙을 사용\n",
    "'''\n",
    "import heapq\n",
    "\n",
    "scoville = [2, 1, 3, 9, 10, 12]\n",
    "K = 7\n",
    "answer = 0\n",
    "\n",
    "heapq.heapify(scoville)\n",
    "\n",
    "while scoville[0] < K :\n",
    "    t = heapq.heappop(scoville) + ( heapq.heappop(scoville) * 2)\n",
    "    heapq.heappush(scoville, t)\n",
    "    answer += 1\n",
    "    \n",
    "    if len(scoville) == 1 and scoville[0] < K :\n",
    "        answer = -1\n",
    "        \n",
    "print(answer)"
   ]
  }
 ],
 "metadata": {
  "language_info": {
   "name": "python"
  },
  "orig_nbformat": 4
 },
 "nbformat": 4,
 "nbformat_minor": 2
}
