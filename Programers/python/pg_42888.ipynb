{
 "cells": [
  {
   "cell_type": "markdown",
   "metadata": {},
   "source": [
    "### [42888 오픈채팅방](https://programmers.co.kr/learn/courses/30/lessons/42888?language=python3)"
   ]
  },
  {
   "cell_type": "code",
   "execution_count": null,
   "metadata": {},
   "outputs": [],
   "source": [
    "a = [\"Enter uid1234 Muzi\", \"Enter uid4567 Prodo\",\"Leave uid1234\",\"Enter uid1234 Prodo\",\"Change uid4567 Ryan\"]\n",
    "\n",
    "def solution(record):\n",
    "    answer = []\n",
    "    \n",
    "    logs = list(map(lambda x:x.split(), record))\n",
    "    userInfo = dict()\n",
    "\n",
    "    for log in logs:\n",
    "        if len(log) != 3: continue\n",
    "        userInfo[log[1]] = log[2]\n",
    "\n",
    "    for log in logs :\n",
    "        if log[0] =='Enter':\n",
    "            answer.append(f'{userInfo[log[1]]}님이 들어왔습니다.')\n",
    "        elif log[0] == 'Leave':\n",
    "            answer.append(f'{userInfo[log[1]]}님이 나갔습니다.')\n",
    "    \n",
    "    return answer\n",
    "\n",
    "print(solution(a))"
   ]
  }
 ],
 "metadata": {
  "language_info": {
   "name": "python"
  },
  "orig_nbformat": 4
 },
 "nbformat": 4,
 "nbformat_minor": 2
}
