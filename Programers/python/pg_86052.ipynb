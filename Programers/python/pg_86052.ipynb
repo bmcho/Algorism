{
 "cells": [
  {
   "cell_type": "markdown",
   "metadata": {},
   "source": [
    "### [86052 빛의 경로 사이클](https://programmers.co.kr/learn/courses/30/lessons/86052?language=python3)"
   ]
  },
  {
   "cell_type": "code",
   "execution_count": null,
   "metadata": {},
   "outputs": [],
   "source": [
    "grid = [\"SL\",\"LR\"]\n",
    "\n",
    "def solution(grid):\n",
    "    answer = []\n",
    "    #상 좌 하 우\n",
    "    #0  1  2  3\n",
    "    dr = [-1,0,1,0]\n",
    "    dc = [0,-1,0,1]\n",
    "\n",
    "    row = len(grid)\n",
    "    col = len(grid[0])\n",
    "\n",
    "    visited = [[[0 for j in range(col)] for i in range(row)] for k in range(4)]\n",
    "\n",
    "    def cycle(sr, sc, sd, grid):\n",
    "        \n",
    "        visited[sd][sr][sc] = 1\n",
    "        r, c, d = sr, sc, sd\n",
    "        cnt = 0\n",
    "\n",
    "        while True:\n",
    "            r = (r + dr[d]) % row\n",
    "            c = (c + dc[d]) % col\n",
    "            cnt += 1\n",
    "\n",
    "            if grid[r][c] == 'L':\n",
    "                d = (d-1) % 4\n",
    "            elif grid[r][c] == 'R':\n",
    "                d = (d+1) % 4\n",
    "\n",
    "            if visited[d][r][c]:\n",
    "                if (r,c,d) == (sr,sc,sd):\n",
    "                    answer.append(cnt)\n",
    "                    return \n",
    "                else :\n",
    "                    return \n",
    "            visited[d][r][c] = 1\n",
    "\n",
    "    for r in range(row) :\n",
    "        for c in range(col):\n",
    "            for d in range(4):\n",
    "                if visited[d][r][c] == 0:\n",
    "                    cycle(r, c, d, grid)\n",
    "\n",
    "    answer.sort()\n",
    "    return answer\n",
    "\n",
    "print(solution(grid))\n"
   ]
  }
 ],
 "metadata": {
  "language_info": {
   "name": "python"
  },
  "orig_nbformat": 4
 },
 "nbformat": 4,
 "nbformat_minor": 2
}
