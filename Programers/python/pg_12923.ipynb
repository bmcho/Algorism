{
 "cells": [
  {
   "cell_type": "markdown",
   "metadata": {},
   "source": [
    "[숫자블록](https://programmers.co.kr/learn/courses/30/lessons/12923)"
   ]
  },
  {
   "cell_type": "code",
   "execution_count": null,
   "metadata": {},
   "outputs": [],
   "source": [
    "'''\n",
    "호율성에서 막혔던 문제다\n",
    "MAX값 비교를 하지 않은것도 있지만\n",
    "처음에는 소수와 최대 약수 구하는 함수를 따뤄 만들었었다. 코드도 길어졌으며 효율성에서 시간을 통과는 되는데 계속 실패가 떴다.\n",
    "다른분의 블로그를 보고 풀었다.\n",
    "소수는 따로 구할 필요 없이 해당 되는 약수가 없음 소수로 보고 1을 넣어주면 되는거였다.\n",
    "for else 문을 써서 풀었다.\n",
    "'''\n",
    "MAX = 10**7\n",
    "\n",
    "def solution(begin,end):\n",
    "    answer = []\n",
    "\n",
    "    for i in range(begin,end+1):\n",
    "        if i == 1 : \n",
    "            answer.append(0)\n",
    "            continue\n",
    "\n",
    "        s = int(i ** 0.5) + 1\n",
    "        for j in range(2,s):\n",
    "            q,r = divmod(i,j)\n",
    "            if r == 0 and q <= MAX:\n",
    "                answer.append(q)\n",
    "                break\n",
    "            \n",
    "        else :\n",
    "            answer.append(1)\n",
    "\n",
    "    return answer"
   ]
  }
 ],
 "metadata": {
  "language_info": {
   "name": "python"
  },
  "orig_nbformat": 4
 },
 "nbformat": 4,
 "nbformat_minor": 2
}
