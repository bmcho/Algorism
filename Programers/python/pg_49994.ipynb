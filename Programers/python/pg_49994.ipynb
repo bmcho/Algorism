{
 "cells": [
  {
   "cell_type": "markdown",
   "metadata": {},
   "source": [
    "[방문길이](https://programmers.co.kr/learn/courses/30/lessons/49994)"
   ]
  },
  {
   "cell_type": "code",
   "execution_count": null,
   "metadata": {},
   "outputs": [],
   "source": [
    "'''\n",
    "생각이 조금 필요한 문제 \n",
    "move.add((x,y,nx,ny))\n",
    "move.add((nx,ny,x,y))\n",
    "지나간 길을 체크해야하기 때문에 다음과 같이 양방향을 모두 체크해줘야한다.\n",
    "그리고는 //2를 해준다..\n",
    "'''\n",
    "def solution(dirs):\n",
    "    answer = 0\n",
    "\n",
    "    d ={'U': (-1, 0), 'D': (1, 0), 'R': (0, -1), 'L': (0, 1)} \n",
    "    move = set()\n",
    "    x,y = 0,0\n",
    "\n",
    "    for dir in dirs :\n",
    "        nx,ny = d[dir][0] + x, d[dir][1] + y\n",
    "\n",
    "        if -5 <= nx <= 5 and -5 <= ny <= 5:\n",
    "            move.add((x,y,nx,ny))\n",
    "            move.add((nx,ny,x,y))\n",
    "            x,y = nx,ny\n",
    "\n",
    "    return len(move)//2\n"
   ]
  }
 ],
 "metadata": {
  "language_info": {
   "name": "python"
  },
  "orig_nbformat": 4
 },
 "nbformat": 4,
 "nbformat_minor": 2
}
