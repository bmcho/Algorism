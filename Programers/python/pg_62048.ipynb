{
 "cells": [
  {
   "cell_type": "markdown",
   "metadata": {},
   "source": [
    "### [62048 멀쩡한 사각형](https://programmers.co.kr/learn/courses/30/lessons/62048?language=python3)"
   ]
  },
  {
   "cell_type": "code",
   "execution_count": null,
   "metadata": {},
   "outputs": [],
   "source": [
    "def solution(w,h):\n",
    "    answer = 1\n",
    "    gcp = 1\n",
    "\n",
    "    for i in range(2,(w if w > h else h)+1):\n",
    "        if w%i == 0 and h%i == 0 :\n",
    "            gcp = i if i > gcp else gcp\n",
    "\n",
    "    print(gcp)\n",
    "\n",
    "    answer = w * h - (w + h - gcp)\n",
    "\n",
    "    return answer"
   ]
  }
 ],
 "metadata": {
  "language_info": {
   "name": "python"
  },
  "orig_nbformat": 4
 },
 "nbformat": 4,
 "nbformat_minor": 2
}
