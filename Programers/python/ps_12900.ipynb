{
 "cells": [
  {
   "cell_type": "markdown",
   "metadata": {},
   "source": [
    "### [12900 2*N 타일링](https://programmers.co.kr/learn/courses/30/lessons/12900?language=python3)\n",
    "\n",
    "### 점화식 기초"
   ]
  },
  {
   "cell_type": "code",
   "execution_count": null,
   "metadata": {},
   "outputs": [],
   "source": [
    "def solution(n):\n",
    "    answer = 0\n",
    "    arr = [0] * (n + 1)\n",
    "    \n",
    "    arr[1] = 1\n",
    "    arr[2] = 2\n",
    "    arr[3] = 3\n",
    "    \n",
    "    for i in range(4,n+1):\n",
    "        arr[i] = (arr[i-2] + arr[i-1]) % 1000000007\n",
    "        \n",
    "    answer = arr[-1] \n",
    "    return answer"
   ]
  }
 ],
 "metadata": {
  "language_info": {
   "name": "python"
  },
  "orig_nbformat": 4
 },
 "nbformat": 4,
 "nbformat_minor": 2
}
