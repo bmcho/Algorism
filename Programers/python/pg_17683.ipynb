{
 "cells": [
  {
   "cell_type": "markdown",
   "metadata": {},
   "source": [
    "[방금그곡](https://programmers.co.kr/learn/courses/30/lessons/17683)"
   ]
  },
  {
   "cell_type": "code",
   "execution_count": null,
   "metadata": {},
   "outputs": [],
   "source": [
    "'''\n",
    "문제를 잘 읽자!! \n",
    "B# 코드따윈 없고 G#코드가 있는데.. \n",
    "'''\n",
    "def solution(m, musicinfos):\n",
    "    answer = ('(None)',0)\n",
    "    \n",
    "    def replace_str(m):\n",
    "        return (m.replace('A#','a').replace('G#','g')\n",
    "            .replace('C#','c').replace('D#','d')\n",
    "            .replace('E#','e').replace('F#','f'))\n",
    "\n",
    "    m = replace_str(m)\n",
    "\n",
    "    for info in musicinfos:\n",
    "\n",
    "        s = info.split(',')\n",
    "        st,et = s[0].split(':'), s[1].split(':')\n",
    "        pt = (int(et[0]) - int(st[0])) * 60 + (int(et[1]) - int(st[1]))\n",
    "\n",
    "        code = replace_str(s[3])\n",
    "        codeLen = len(code)\n",
    "        play = (code * ((pt//codeLen) + 1))[:pt]\n",
    "\n",
    "        if m in play and answer[1] < pt:\n",
    "            answer = (s[2],pt)\n",
    "\n",
    "        if m in play:\n",
    "            if answer[1] < pt:\n",
    "                answer = (s[2], pt)\n",
    "\n",
    "    return answer[0]"
   ]
  }
 ],
 "metadata": {
  "language_info": {
   "name": "python"
  },
  "orig_nbformat": 4
 },
 "nbformat": 4,
 "nbformat_minor": 2
}
