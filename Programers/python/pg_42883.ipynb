{
 "cells": [
  {
   "cell_type": "code",
   "execution_count": null,
   "metadata": {},
   "outputs": [],
   "source": [
    "### [42883 큰 수 찾기](https://programmers.co.kr/learn/courses/30/lessons/42883?language=python3)"
   ]
  },
  {
   "cell_type": "code",
   "execution_count": null,
   "metadata": {},
   "outputs": [],
   "source": [
    "'''\n",
    "역시 number의 길이가 최대 1,000,000이기에 시간초과\n",
    "'''\n",
    "\n",
    "def solution(number, k):\n",
    "    answer = ''\n",
    "    targetLen = len(number) - k\n",
    "        \n",
    "    r = []\n",
    "    \n",
    "    #조합 저장할 arr, \n",
    "    def recursive(arr,t,n):\n",
    "        #남은 수의 갯수와 구해 할 수의 갯수가 같으면 끝낸다\n",
    "        if t == 0:\n",
    "            r.append(''.join(arr))\n",
    "        else :\n",
    "            b = len(n)-t+1\n",
    "            for i in range(b):\n",
    "                recursive(arr+[n[i]],t-1,n[i+1:])                \n",
    "    g = len(number)-k+1\n",
    "    for i in range(0, g):\n",
    "        recursive([number[i]],targetLen-1,number[i+1:])\n",
    "        \n",
    "    return max(r)\n",
    "\n",
    "\n",
    "print(solution(\"1924\",2))"
   ]
  },
  {
   "cell_type": "code",
   "execution_count": null,
   "metadata": {},
   "outputs": [],
   "source": [
    "'''\n",
    "순열이나 조합이 아닌 단순 제거 문자열에 대한 최대 수를 찾는 문제이기 때문에 앞에서 부터 큰 수를 찾으면 가장 큰 수가 된다.\n",
    "O(n)\n",
    "'''\n",
    "\n",
    "\n",
    "def solution(number, k):\n",
    "    answer = [] \n",
    "    \n",
    "    for n in number:\n",
    "        while k > 0 and answer and answer[-1] < n:\n",
    "            answer.pop()\n",
    "            k -= 1        \n",
    "        \n",
    "        answer.append(n)\n",
    "        \n",
    "    return ''.join(answer)"
   ]
  }
 ],
 "metadata": {
  "language_info": {
   "name": "python"
  },
  "orig_nbformat": 4
 },
 "nbformat": 4,
 "nbformat_minor": 2
}
