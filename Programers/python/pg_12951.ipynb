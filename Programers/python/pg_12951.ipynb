{
 "cells": [
  {
   "cell_type": "markdown",
   "metadata": {},
   "source": [
    "[JadenCase 문자열 만들기](https://programmers.co.kr/learn/courses/30/lessons/12951)"
   ]
  },
  {
   "cell_type": "code",
   "execution_count": null,
   "metadata": {},
   "outputs": [],
   "source": [
    "'''\n",
    "공백문자열쪽을 좀더 간단한 코드로 바꾸고 싶었으나 실패\n",
    "'''\n",
    "def solution(s):\n",
    "    answer = ''\n",
    "    s = s.lower().split(' ')\n",
    "    \n",
    "    for x in s:\n",
    "        if x == '' :\n",
    "            answer += ' '\n",
    "            continue\n",
    "\n",
    "        if x[0].isdigit():\n",
    "            answer += f'{x} '\n",
    "        else:\n",
    "            answer += f'{x.title()} 'ㅉ\n",
    "    \n",
    "    return answer[:-1]\n"
   ]
  }
 ],
 "metadata": {
  "language_info": {
   "name": "python"
  },
  "orig_nbformat": 4
 },
 "nbformat": 4,
 "nbformat_minor": 2
}
