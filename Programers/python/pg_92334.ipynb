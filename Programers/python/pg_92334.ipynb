{
 "cells": [
  {
   "cell_type": "markdown",
   "metadata": {},
   "source": [
    "[신고 결과받기](https://programmers.co.kr/learn/courses/30/lessons/92334)"
   ]
  },
  {
   "cell_type": "code",
   "execution_count": null,
   "metadata": {},
   "outputs": [],
   "source": [
    "from collections import defaultdict\n",
    "\n",
    "def solution(id_list, report, k):\n",
    "    answer = []\n",
    "    user_dict = defaultdict(list) \n",
    "    report_dict = defaultdict(int) \n",
    "\n",
    "    for r in report:\n",
    "        a,b = r.split()\n",
    "        if not b in user_dict[a] :\n",
    "            user_dict[a].append(b)\n",
    "            report_dict[b] += 1\n",
    "\n",
    "    susp = []\n",
    "    for key,value in report_dict.items():\n",
    "        if value >= k:\n",
    "           susp.append(key)\n",
    "\n",
    "    for id in id_list:\n",
    "        re_lst = user_dict[id]\n",
    "        cnt = 0\n",
    "        for s in susp:\n",
    "            if s in re_lst : cnt += 1\n",
    "        \n",
    "        answer.append(cnt)\n",
    "\n",
    "    return answer"
   ]
  }
 ],
 "metadata": {
  "language_info": {
   "name": "python"
  },
  "orig_nbformat": 4
 },
 "nbformat": 4,
 "nbformat_minor": 2
}
