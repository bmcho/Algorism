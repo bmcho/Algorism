{
 "cells": [
  {
   "cell_type": "markdown",
   "metadata": {},
   "source": [
    "[다음 큰 숫자](https://programmers.co.kr/learn/courses/30/lessons/12911)"
   ]
  },
  {
   "cell_type": "code",
   "execution_count": null,
   "metadata": {},
   "outputs": [],
   "source": [
    "def solution(n):\n",
    "    answer = 0\n",
    "    \n",
    "    cnt = bin(n)[2:].count(\"1\")\n",
    "    answer = n + 1\n",
    "    while True:\n",
    "        b = bin(answer)\n",
    "        \n",
    "        if cnt == b[2:].count(\"1\"):\n",
    "            break\n",
    "        \n",
    "        answer += 1\n",
    "        \n",
    "    \n",
    "    return answer\n"
   ]
  }
 ],
 "metadata": {
  "language_info": {
   "name": "python"
  },
  "orig_nbformat": 4
 },
 "nbformat": 4,
 "nbformat_minor": 2
}
