{
 "cells": [
  {
   "cell_type": "markdown",
   "metadata": {},
   "source": [
    "### [60057 문자열 압축](https://programmers.co.kr/learn/courses/30/lessons/60057?language=python3)"
   ]
  },
  {
   "cell_type": "code",
   "execution_count": null,
   "metadata": {},
   "outputs": [
    {
     "ename": "",
     "evalue": "",
     "output_type": "error",
     "traceback": [
      "\u001b[1;31mRunning cells with 'Python 3.8.10 64-bit' requires ipykernel package.\n",
      "Run the following command to install 'ipykernel' into the Python environment. \n",
      "Command: '/bin/python3 -m pip install ipykernel -U --user --force-reinstall'"
     ]
    }
   ],
   "source": [
    "'''\n",
    "기존 javascript를 풀었던 문제를 python으로 다시 품\n",
    "python 다른 언어들과 다르게 substring이 없고 slicing으로 문자열을 자른다.\n",
    "쓸때는 slicing이 더 편한데 막상 코드를 작성하면 더 지저분해보인다.\n",
    "'''\n",
    "\n",
    "def solution(s):\n",
    "    answer = 1000\n",
    "    if len(s) == 1: return 1\n",
    "    \n",
    "    comparedLen = len(s)//2\n",
    "    print(comparedLen)\n",
    "    for i in range(1, comparedLen+1):\n",
    "        result = ''\n",
    "        run = 1\n",
    "        for j in range(0, len(s)+1, i):\n",
    "            cur = s[j:j+i]\n",
    "            next = s[j+i:j+i+i]\n",
    "            # print(f'cur: {cur} vs next: {next}')\n",
    "            \n",
    "            if cur == next:\n",
    "                run += 1\n",
    "            else :\n",
    "                result = f'{result}{run}{cur}' if run > 1 else f'{result}{cur}' \n",
    "                run = 1\n",
    "\n",
    "        print(result)\n",
    "        answer = len(result) if answer > len(result) else answer\n",
    "\n",
    "\n",
    "    return answer\n",
    "\n",
    "\n",
    "print(f'this solution anwser is {solution(\"ababcdcdababcdcd\")}')\n"
   ]
  }
 ],
 "metadata": {
  "interpreter": {
   "hash": "916dbcbb3f70747c44a77c7bcd40155683ae19c65e1c03b4aa3499c5328201f1"
  },
  "kernelspec": {
   "display_name": "Python 3.8.10 64-bit",
   "language": "python",
   "name": "python3"
  },
  "language_info": {
   "name": "python",
   "version": "3.8.10"
  },
  "orig_nbformat": 4
 },
 "nbformat": 4,
 "nbformat_minor": 2
}
