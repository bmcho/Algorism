{
 "cells": [
  {
   "cell_type": "markdown",
   "metadata": {},
   "source": [
    "### [42577 전화번호목록](https://programmers.co.kr/learn/courses/30/lessons/42577?language=python3)### [42577 전화번호목록](https://programmers.co.kr/learn/courses/30/lessons/42577?language=python3)"
   ]
  },
  {
   "cell_type": "code",
   "execution_count": null,
   "metadata": {},
   "outputs": [],
   "source": [
    "#효율성 시간초과\n",
    "def solution(phone_book):\n",
    "     answer = True\n",
    "     phone_book.sort()\n",
    "\n",
    "     o = phone_book.pop(0)    \n",
    "     while phone_book:\n",
    "         if o == phone_book[0][:len(o)]:\n",
    "             return False\n",
    "        \n",
    "         o = phone_book.pop(0)\n",
    "     return answer"
   ]
  },
  {
   "cell_type": "code",
   "execution_count": null,
   "metadata": {},
   "outputs": [],
   "source": [
    "'''\n",
    "테스트 20 〉\t통과 (1.83ms, 10.3MB)\n",
    "위의 코드로 실행할 시 2초도 넘게 걸린다\n",
    "heapq의 어마무시한 성능이다\n",
    "'''\n",
    "import heapq\n",
    "def solution(phone_book):\n",
    "    anwser = True\n",
    "\n",
    "    heapq.heapify(phone_book)\n",
    "    \n",
    "    o = heapq.heappop(phone_book)\n",
    "\n",
    "    while phone_book:\n",
    "        if o == phone_book[0][:len(o)]:\n",
    "            return False\n",
    "        \n",
    "        o = heapq.heappop(phone_book)\n",
    "\n",
    "    return anwser"
   ]
  }
 ],
 "metadata": {
  "interpreter": {
   "hash": "f9f85f796d01129d0dd105a088854619f454435301f6ffec2fea96ecbd9be4ac"
  },
  "kernelspec": {
   "display_name": "Python 3.9.5 64-bit",
   "language": "python",
   "name": "python3"
  },
  "language_info": {
   "name": "python",
   "version": "3.9.5"
  },
  "orig_nbformat": 4
 },
 "nbformat": 4,
 "nbformat_minor": 2
}
