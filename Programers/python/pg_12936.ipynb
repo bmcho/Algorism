{
 "cells": [
  {
   "cell_type": "markdown",
   "metadata": {},
   "source": [
    "[줄 서는 방법](https://programmers.co.kr/learn/courses/30/lessons/12936)\n",
    "\n",
    "[참고](https://roomedia.tistory.com/entry/%ED%94%84%EB%A1%9C%EA%B7%B8%EB%9E%98%EB%A8%B8%EC%8A%A4-%EC%A4%84-%EC%84%9C%EB%8A%94-%EB%B0%A9%EB%B2%95-%EC%97%B0%EC%8A%B5%EB%AC%B8%EC%A0%9C-level3-%ED%8C%8C%EC%9D%B4%EC%8D%AC-%EC%88%98%ED%95%99)\n"
   ]
  },
  {
   "cell_type": "code",
   "execution_count": null,
   "metadata": {},
   "outputs": [],
   "source": [
    "'''\n",
    "단순 순열로 구하면 시간초과 똭똭똭!!!\n",
    "생각하다 도저히 생각이 나질 않아 위의 참고 블로그를 통해 풀었다..\n",
    "\n",
    "풀이법은 몫과 나머지를 사용하는 방법..\n",
    "'''\n",
    "import math\n",
    "def solution(n, k):\n",
    "    answer = []\n",
    "    peaple = [i for i in range(1,n+1)]\n",
    "    k -= 1\n",
    "    for i in range(n,0,-1):\n",
    "        q,k = divmod(k,math.factorial(i-1))\n",
    "\n",
    "        answer.append(peaple.pop(q))\n",
    "\n",
    "    return answer\n"
   ]
  }
 ],
 "metadata": {
  "language_info": {
   "name": "python"
  },
  "orig_nbformat": 4
 },
 "nbformat": 4,
 "nbformat_minor": 2
}
