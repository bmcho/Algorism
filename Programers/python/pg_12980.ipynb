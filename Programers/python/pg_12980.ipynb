{
 "cells": [
  {
   "cell_type": "markdown",
   "metadata": {},
   "source": [
    "[점프와 순간이동](https://programmers.co.kr/learn/courses/30/lessons/12980)"
   ]
  },
  {
   "cell_type": "code",
   "execution_count": null,
   "metadata": {},
   "outputs": [],
   "source": [
    "def solution(n):\n",
    "    ans = 0\n",
    "    \n",
    "    while n > 0:\n",
    "        if n % 2:\n",
    "            ans += 1\n",
    "            n = (n-1) // 2\n",
    "        else : n = n // 2\n",
    "    \n",
    "    return ans"
   ]
  }
 ],
 "metadata": {
  "language_info": {
   "name": "python"
  },
  "orig_nbformat": 4
 },
 "nbformat": 4,
 "nbformat_minor": 2
}
