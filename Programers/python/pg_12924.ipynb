{
 "cells": [
  {
   "cell_type": "markdown",
   "metadata": {},
   "source": [
    "[숫자의 표현](https://programmers.co.kr/learn/courses/30/lessons/12924)"
   ]
  },
  {
   "cell_type": "code",
   "execution_count": null,
   "metadata": {},
   "outputs": [],
   "source": [
    "def solution(n):\n",
    "    answer = 0\n",
    "    \n",
    "    for i in range(1,n+1):\n",
    "        s = 0\n",
    "        for j in range(i,n+1):\n",
    "            s += j\n",
    "            if s == n :\n",
    "                answer += 1\n",
    "                break\n",
    "            elif s > n:\n",
    "                break      \n",
    "    \n",
    "    return answer"
   ]
  }
 ],
 "metadata": {
  "language_info": {
   "name": "python"
  },
  "orig_nbformat": 4
 },
 "nbformat": 4,
 "nbformat_minor": 2
}
