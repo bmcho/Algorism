{
 "cells": [
  {
   "cell_type": "markdown",
   "metadata": {},
   "source": [
    "[3차 압축](https://programmers.co.kr/learn/courses/30/lessons/17684)\n",
    "\n",
    "이런 구현 문제가 약한것 같다.. 많이 풀어보자"
   ]
  },
  {
   "cell_type": "code",
   "execution_count": null,
   "metadata": {},
   "outputs": [],
   "source": [
    "def solution(msg):\n",
    "    idx = {chr(i+64):i for i in range(1,27)}\n",
    "    nidx = 27\n",
    "    answer = []\n",
    "    \n",
    "    while msg:\n",
    "        run = 1\n",
    "        \n",
    "        while msg[:run] in idx.keys() and run <= msg.__len__():\n",
    "            run += 1\n",
    "        \n",
    "        answer.append(idx[msg[:run-1]])\n",
    "        idx[msg[:run]] = nidx\n",
    "        nidx += 1\n",
    "        \n",
    "        msg = msg[run-1:]\n",
    "    return answer"
   ]
  }
 ],
 "metadata": {
  "language_info": {
   "name": "python"
  },
  "orig_nbformat": 4
 },
 "nbformat": 4,
 "nbformat_minor": 2
}
