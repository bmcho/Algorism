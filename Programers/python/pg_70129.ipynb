{
 "cells": [
  {
   "cell_type": "markdown",
   "metadata": {},
   "source": [
    "### [이진 변환 반복하기](https://programmers.co.kr/learn/courses/30/lessons/70129)"
   ]
  },
  {
   "cell_type": "code",
   "execution_count": null,
   "metadata": {},
   "outputs": [],
   "source": [
    "def solution(s):\n",
    "    \n",
    "    answer = []\n",
    "    \n",
    "    removeCnt = 0\n",
    "    ConvertCnt = 0\n",
    "    while s != '1' :\n",
    "        removeCnt += s.count('0')\n",
    "        ConvertCnt += 1\n",
    "        s = s.replace('0', '')\n",
    "        s = bin(len(s))[2:]\n",
    "      \n",
    "    return [ConvertCnt, removeCnt]"
   ]
  }
 ],
 "metadata": {
  "language_info": {
   "name": "python"
  },
  "orig_nbformat": 4
 },
 "nbformat": 4,
 "nbformat_minor": 2
}
