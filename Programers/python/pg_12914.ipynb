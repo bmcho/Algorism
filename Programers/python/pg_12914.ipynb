{
 "cells": [
  {
   "cell_type": "markdown",
   "metadata": {},
   "source": [
    "[멀리 뛰기](https://programmers.co.kr/learn/courses/30/lessons/12914)"
   ]
  },
  {
   "cell_type": "code",
   "execution_count": null,
   "metadata": {},
   "outputs": [],
   "source": [
    "def solution(n):\n",
    "    answer = 0\n",
    "    \n",
    "    if n <= 3:\n",
    "        return n\n",
    "    \n",
    "    dp = [0] * (n+1)\n",
    "    dp[1],dp[2],dp[3] = 1,2,3\n",
    "\n",
    "    for i in range(4,n+1):\n",
    "        dp[i] = (dp[i-2] + dp[i-1]) % 1234567\n",
    "\n",
    "    return dp[-1]"
   ]
  }
 ],
 "metadata": {
  "language_info": {
   "name": "python"
  },
  "orig_nbformat": 4
 },
 "nbformat": 4,
 "nbformat_minor": 2
}
