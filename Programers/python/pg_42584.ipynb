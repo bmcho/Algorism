{
 "cells": [
  {
   "cell_type": "markdown",
   "metadata": {},
   "source": [
    "### [42584 주식가격](https://programmers.co.kr/learn/courses/30/lessons/42584?language=python3)\n",
    "#### [참고](https://deftkang.tistory.com/175)"
   ]
  },
  {
   "cell_type": "code",
   "execution_count": null,
   "metadata": {},
   "outputs": [],
   "source": [
    "'''\n",
    "이중 for문으로 쉽게 풀수 있는 문제이지만 효율성이 좋게 나오지 않아 고민하다\n",
    "위 블로그 글을 참고 하였다. 사실상 풀이 코드는 같다.\n",
    "'''\n",
    "\n",
    "def solution(prices):\n",
    "    pLen = len(prices)\n",
    "    answer = [0] * pLen\n",
    "    stack = []\n",
    "    \n",
    "    for i, price in enumerate(prices):\n",
    "        while stack and price < prices[stack[-1]]:\n",
    "            j = stack.pop()\n",
    "            \n",
    "            answer[j] = i-j\n",
    "        \n",
    "        stack.append(i)\n",
    "        \n",
    "    while stack:\n",
    "        j = stack.pop()\n",
    "        answer[j] = pLen-j-1\n",
    "        \n",
    "        \n",
    "    return answer"
   ]
  }
 ],
 "metadata": {
  "language_info": {
   "name": "python"
  },
  "orig_nbformat": 4
 },
 "nbformat": 4,
 "nbformat_minor": 2
}
