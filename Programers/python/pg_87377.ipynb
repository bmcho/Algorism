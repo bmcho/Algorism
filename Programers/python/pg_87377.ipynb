{
 "cells": [
  {
   "cell_type": "markdown",
   "metadata": {},
   "source": [
    "### [87377 교점에 별 만들기](https://programmers.co.kr/learn/courses/30/lessons/87377)"
   ]
  },
  {
   "cell_type": "code",
   "execution_count": null,
   "metadata": {},
   "outputs": [],
   "source": [
    "'''\n",
    "float('inf')가 아닌 범위만큼 정수로 표현하면 시간초과가 뜬다.\n",
    "적극 활용하도록 하자\n",
    "'''\n",
    "def solution(line):\n",
    "    INF = float('inf')\n",
    "    n = len(line)\n",
    "    answer = []\n",
    "    \n",
    "    minX, minY, maxX, maxY = INF,INF,-INF,-INF\n",
    "    cross = []\n",
    "    \n",
    "    for i in range(n):\n",
    "        for j in range(i, n):\n",
    "            a, b, e = line[i]\n",
    "            c, d, f = line[j]\n",
    "            \n",
    "            mod = a * d - b * c\n",
    "            \n",
    "            if not mod : continue\n",
    "            \n",
    "            x = (b * f - e * d)\n",
    "            y = (e * c - a * f)\n",
    "            \n",
    "            if x % mod or y % mod : continue\n",
    "            \n",
    "            x = x // mod\n",
    "            y = y // mod\n",
    "            \n",
    "            minX = min(minX, x)\n",
    "            minY = min(minY, y)\n",
    "            maxX = max(maxX, x)\n",
    "            maxY = max(maxY, y)\n",
    "            \n",
    "            cross.append((x,y))\n",
    "    \n",
    "    star = [['.' for _ in range(maxX-minX+1)] for _ in range(maxY-minY+1)]\n",
    "    \n",
    "    for x, y in cross:\n",
    "        star[maxY-y][x-minX] = '*'\n",
    "    \n",
    "    return [''.join(s) for s in star]"
   ]
  }
 ],
 "metadata": {
  "language_info": {
   "name": "python"
  },
  "orig_nbformat": 4
 },
 "nbformat": 4,
 "nbformat_minor": 2
}
