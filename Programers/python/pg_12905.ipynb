{
 "cells": [
  {
   "cell_type": "markdown",
   "metadata": {},
   "source": [
    "[가장 큰 정사각형 찾기](https://programmers.co.kr/learn/courses/30/lessons/12905)"
   ]
  },
  {
   "cell_type": "code",
   "execution_count": null,
   "metadata": {},
   "outputs": [],
   "source": [
    "def solution(board):\n",
    "    answer = 1234\n",
    "    cLen, rLen = len(board[0]), len(board)\n",
    "    dp = [[0 for _ in range(cLen + 1)] for _ in range(rLen + 1)]\n",
    "    m = -1\n",
    "    \n",
    "    for i in range(1,rLen+1):\n",
    "        for j in range(1,cLen+1):\n",
    "            if board[i-1][j-1] :\n",
    "                dp[i][j] = min(dp[i-1][j],dp[i][j-1],dp[i-1][j-1]) + 1\n",
    "            \n",
    "            m = max(m, dp[i][j])\n",
    "            \n",
    "    return m**2"
   ]
  }
 ],
 "metadata": {
  "language_info": {
   "name": "python"
  },
  "orig_nbformat": 4
 },
 "nbformat": 4,
 "nbformat_minor": 2
}
