{
 "cells": [
  {
   "cell_type": "markdown",
   "metadata": {},
   "source": [
    "[[3차] 파일명 정렬](https://programmers.co.kr/learn/courses/30/lessons/17686)"
   ]
  },
  {
   "cell_type": "code",
   "execution_count": null,
   "metadata": {},
   "outputs": [],
   "source": [
    "import re\n",
    "def solution(files):\n",
    "    temp = [re.split(r\"([0-9]+)\", f) for f in files]\n",
    "    return [''.join(f) for f in sorted(temp, key= lambda f: [f[0].lower(), int(f[1])])]"
   ]
  }
 ],
 "metadata": {
  "language_info": {
   "name": "python"
  },
  "orig_nbformat": 4
 },
 "nbformat": 4,
 "nbformat_minor": 2
}
