{
 "cells": [
  {
   "cell_type": "markdown",
   "metadata": {},
   "source": [
    "### [17680 캐시](https://programmers.co.kr/learn/courses/30/lessons/17680)"
   ]
  },
  {
   "cell_type": "code",
   "execution_count": null,
   "metadata": {},
   "outputs": [],
   "source": [
    "'''\n",
    "처음에는 어려보이는 문제였지만 LRU 알고리즘을 알고 있다면 쉽게 풀 수 있는 문제\n",
    "지문에 친절하게 LRU를 사용한다고 나와있다.\n",
    "'''\n",
    "def solution(cacheSize, cities):\n",
    "    answer = 0\n",
    "    q = []\n",
    "    \n",
    "    cities = [city.lower() for city in cities]\n",
    "    \n",
    "    if cacheSize == 0 : return len(cities) * 5\n",
    "    for city in cities:\n",
    "        if not q:\n",
    "            q.append(city)\n",
    "            answer += 5\n",
    "            \n",
    "            continue\n",
    "            \n",
    "        if city in q:\n",
    "            q.pop(q.index(city))\n",
    "            q.append(city)\n",
    "            answer += 1\n",
    "        else :\n",
    "            if len(q) == cacheSize :\n",
    "                q.pop(0)\n",
    "                q.append(city)\n",
    "            else:\n",
    "                q.append(city)\n",
    "            \n",
    "            answer += 5\n",
    "            \n",
    "    return answer"
   ]
  }
 ],
 "metadata": {
  "language_info": {
   "name": "python"
  },
  "orig_nbformat": 4
 },
 "nbformat": 4,
 "nbformat_minor": 2
}
