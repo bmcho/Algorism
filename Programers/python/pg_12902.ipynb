{
 "cells": [
  {
   "cell_type": "markdown",
   "metadata": {},
   "source": [
    "[3xn 타일링](https://programmers.co.kr/learn/courses/30/lessons/12902)"
   ]
  },
  {
   "cell_type": "code",
   "execution_count": null,
   "metadata": {},
   "outputs": [],
   "source": [
    "mod = 1000000007\n",
    "\n",
    "def solution(n):\n",
    "    answer = 0\n",
    "    dp = [0] * (n+1)\n",
    "    dp[1] = 1\n",
    "    dp[2] = 3\n",
    "    \n",
    "    for i in range(4,n+1,2):\n",
    "        dp[i] = (dp[i-2] * 3 + 2)\n",
    "        for j in range(i-4, 0, -2):\n",
    "            dp[i] = dp[i] + dp[j] * 2\n",
    "        dp[i] = dp[i] % mod\n",
    "        \n",
    "        \n",
    "    return dp[-1]"
   ]
  }
 ],
 "metadata": {
  "language_info": {
   "name": "python"
  },
  "orig_nbformat": 4
 },
 "nbformat": 4,
 "nbformat_minor": 2
}
