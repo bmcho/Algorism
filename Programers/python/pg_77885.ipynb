{
 "cells": [
  {
   "cell_type": "markdown",
   "metadata": {},
   "source": [
    "### [77885 2개 이하로 다른비트 ](https://programmers.co.kr/learn/courses/30/lessons/77885)\n",
    "\n",
    "#### [참고사이트](https://yabmoons.tistory.com/665)"
   ]
  },
  {
   "cell_type": "code",
   "execution_count": null,
   "metadata": {},
   "outputs": [],
   "source": [
    "'''\n",
    "비트마스크로 풀면 생각보다 간단한 문자이나.. 비트마스크가 어렵다....\n",
    "'''\n",
    "\n",
    "def solution(numbers):\n",
    "    answer = []\n",
    "    \n",
    "    for num in numbers:\n",
    "        if num % 2 == 0 : answer.append(num+1)\n",
    "        else :\n",
    "            lastZero = (num+1) & (-num)\n",
    "            result = (num | lastZero) & (~(lastZero >> 1))\n",
    "            answer.append(result)\n",
    "    \n",
    "    return answer"
   ]
  }
 ],
 "metadata": {
  "language_info": {
   "name": "python"
  },
  "orig_nbformat": 4
 },
 "nbformat": 4,
 "nbformat_minor": 2
}
