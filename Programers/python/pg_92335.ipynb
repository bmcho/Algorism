{
 "cells": [
  {
   "cell_type": "markdown",
   "metadata": {},
   "source": [
    "[k 진수에서 소수 개수 구하기](https://programmers.co.kr/learn/courses/30/lessons/92335)"
   ]
  },
  {
   "cell_type": "code",
   "execution_count": null,
   "metadata": {},
   "outputs": [],
   "source": [
    "def isPrime(n):\n",
    "    if n == 1 : return False\n",
    "    for i in range(2,int(n**0.5)+1):\n",
    "        if not n % i :\n",
    "            return False\n",
    "    return True\n",
    "\n",
    "def n_convert(n,b):\n",
    "    t = '0123456789ABCDEF'\n",
    "    q,r = divmod(n,b)\n",
    "    if not q: return t[r]\n",
    "    else : return n_convert(q,b) + t[r]\n",
    "\n",
    "def solution(n, k):\n",
    "    answer = 0\n",
    "    con = n_convert(n,k)\n",
    "\n",
    "    check = con.split('0')\n",
    "    for i in check:\n",
    "        if i and isPrime(int(i)):answer+=1\n",
    "        \n",
    "    return answer\n"
   ]
  }
 ],
 "metadata": {
  "language_info": {
   "name": "python"
  },
  "orig_nbformat": 4
 },
 "nbformat": 4,
 "nbformat_minor": 2
}
