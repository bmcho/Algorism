{
 "cells": [
  {
   "cell_type": "markdown",
   "metadata": {},
   "source": [
    "[올바른 괄호](https://programmers.co.kr/learn/courses/30/lessons/12909)"
   ]
  },
  {
   "cell_type": "code",
   "execution_count": null,
   "metadata": {},
   "outputs": [],
   "source": [
    "def solution(s):\n",
    "    answer = True\n",
    "    stack = []\n",
    "    \n",
    "    for c in s:\n",
    "        if not stack : stack.append(c)\n",
    "        else :\n",
    "            if stack[-1] == '(' and c == ')': stack.pop()\n",
    "            else : stack.append(c)\n",
    "        \n",
    "    return True if not len(stack) else False"
   ]
  }
 ],
 "metadata": {
  "language_info": {
   "name": "python"
  },
  "orig_nbformat": 4
 },
 "nbformat": 4,
 "nbformat_minor": 2
}
