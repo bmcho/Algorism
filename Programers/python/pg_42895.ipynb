{
 "cells": [
  {
   "cell_type": "markdown",
   "metadata": {},
   "source": [
    "[N으로 표현](https://programmers.co.kr/learn/courses/30/lessons/42895)"
   ]
  },
  {
   "cell_type": "code",
   "execution_count": null,
   "metadata": {},
   "outputs": [],
   "source": [
    "'''\n",
    "dp는 어렵다..\n",
    "'''\n",
    "def solution(N, number):\n",
    "    answer = -1\n",
    "    dp = []\n",
    "    \n",
    "    if N == number : return 1\n",
    "\n",
    "    for i in range(1,9):\n",
    "        c = set()\n",
    "        c.add(int(str(N)*i))\n",
    "\n",
    "        for j in range(0, i-1):\n",
    "            for d1 in dp[j]:\n",
    "                for d2 in dp[-j-1]:\n",
    "                    c.add(d1+d2)\n",
    "                    c.add(d1-d2)\n",
    "                    c.add(d1*d2)\n",
    "                    if d2 != 0 :\n",
    "                        c.add(d1//d2)\n",
    "\n",
    "        if number in c :\n",
    "            return i\n",
    "\n",
    "        dp.append(c)\n",
    "\n",
    "    return answer"
   ]
  }
 ],
 "metadata": {
  "language_info": {
   "name": "python"
  },
  "orig_nbformat": 4
 },
 "nbformat": 4,
 "nbformat_minor": 2
}
