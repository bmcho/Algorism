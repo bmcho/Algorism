{
 "cells": [
  {
   "cell_type": "markdown",
   "metadata": {},
   "source": [
    "[쿼드압축 후 개수 세기](https://programmers.co.kr/learn/courses/30/lessons/68936)"
   ]
  },
  {
   "cell_type": "code",
   "execution_count": null,
   "metadata": {},
   "outputs": [],
   "source": [
    "def solution(arr):\n",
    "    answer = [0,0]\n",
    "    \n",
    "    def reculsive(x,y,n):\n",
    "        s = arr[x][y]\n",
    "        \n",
    "        for i in range(x,x+n):\n",
    "            for j in range(y,y+n):\n",
    "                if arr[i][j] != s:\n",
    "                    nn = n // 2\n",
    "                    reculsive(x,y,nn)\n",
    "                    reculsive(x+nn,y,nn)\n",
    "                    reculsive(x,y+nn,nn)\n",
    "                    reculsive(x+nn,y+nn,nn)\n",
    "                    return\n",
    "                \n",
    "        answer[s] += 1        \n",
    "        \n",
    "    reculsive(0,0,len(arr[0]))   \n",
    "    \n",
    "    return answer"
   ]
  }
 ],
 "metadata": {
  "language_info": {
   "name": "python"
  },
  "orig_nbformat": 4
 },
 "nbformat": 4,
 "nbformat_minor": 2
}
