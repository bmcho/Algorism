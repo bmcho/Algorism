{
 "cells": [
  {
   "cell_type": "markdown",
   "metadata": {},
   "source": [
    "[[3차] n진수 게임](https://programmers.co.kr/learn/courses/30/lessons/17687)"
   ]
  },
  {
   "cell_type": "code",
   "execution_count": null,
   "metadata": {},
   "outputs": [],
   "source": [
    "def c (n, b):\n",
    "    t = '0123456789ABCDEF'\n",
    "    \n",
    "    q,r = divmod(n,b)\n",
    "    \n",
    "    if not q:\n",
    "        return t[r]\n",
    "    else :\n",
    "        a =  c(q,b) + t[r]\n",
    "        return a\n",
    "\n",
    "def solution(n, t, m, p):\n",
    "    answer = ''\n",
    "    game = ''\n",
    "    for i in range(m*t):\n",
    "        game += str(c(i,n))\n",
    "        \n",
    "    for i in range(0,t):\n",
    "        answer += game[p+(i*m)-1]\n",
    "    \n",
    "    return answer"
   ]
  }
 ],
 "metadata": {
  "language_info": {
   "name": "python"
  },
  "orig_nbformat": 4
 },
 "nbformat": 4,
 "nbformat_minor": 2
}
