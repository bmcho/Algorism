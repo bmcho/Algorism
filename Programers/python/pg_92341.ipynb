{
 "cells": [
  {
   "cell_type": "markdown",
   "metadata": {},
   "source": [
    "[주차 요금 계산](https://programmers.co.kr/learn/courses/30/lessons/92341)"
   ]
  },
  {
   "cell_type": "code",
   "execution_count": null,
   "metadata": {},
   "outputs": [],
   "source": [
    "import math\n",
    "\n",
    "def solution(fees, records):\n",
    "    answer = []\n",
    "    #dict을 스택 처럼 사용해보자\n",
    "    d1 = dict()\n",
    "    d2 = dict()\n",
    "\n",
    "    for r in records:\n",
    "        t2,n,s = r.split()\n",
    "\n",
    "        if n not in d1: d1[n] = t2\n",
    "        else :\n",
    "            t1 = d1[n]\n",
    "            del d1[n]\n",
    "            pt = ((int(t2[:2]) - int(t1[:2])) * 60) + int(t2[3:]) - int(t1[3:])\n",
    "            if n in d2 : d2[n] += pt\n",
    "            else : d2[n] = pt\n",
    "\n",
    "    for n,t1 in d1.items():\n",
    "        t2 = '23:59'\n",
    "        pt = ((int(t2[:2]) - int(t1[:2])) * 60) + int(t2[3:]) - int(t1[3:])\n",
    "        if n in d2 : d2[n] += pt\n",
    "        else :  d2[n] = pt\n",
    "\n",
    "\n",
    "    for n,t in sorted(d2.items()):\n",
    "        c = fees[1] + math.ceil((t-fees[0])/fees[2]) * fees[3] if t-fees[0] > 0 else fees[1]\n",
    "        print(c)\n",
    "        answer.append(c)\n",
    "\n",
    "    return answer"
   ]
  }
 ],
 "metadata": {
  "language_info": {
   "name": "python"
  },
  "orig_nbformat": 4
 },
 "nbformat": 4,
 "nbformat_minor": 2
}
