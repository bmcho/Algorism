{
 "cells": [
  {
   "cell_type": "markdown",
   "metadata": {},
   "source": [
    "### [87946 피로도](https://programmers.co.kr/learn/courses/30/lessons/87946)"
   ]
  },
  {
   "cell_type": "code",
   "execution_count": null,
   "metadata": {},
   "outputs": [],
   "source": [
    "def solution(k, dungeons):\n",
    "    answer = []\n",
    "    \n",
    "    def dfs(k, dungeons, level):\n",
    "        for i in range(len(dungeons)):\n",
    "            if k >= dungeons[i][0] and 1 <= k-dungeons[i][1] :\n",
    "                locate = (dungeons[:i] + dungeons[i+1:] \n",
    "                        if len(dungeons)-1 > i \n",
    "                        else dungeons[:i])\n",
    "            \n",
    "                dfs(k - dungeons[i][1], locate, level+1)\n",
    "\n",
    "        answer.append(level)\n",
    "    \n",
    "    for i in range(len(dungeons)):\n",
    "        if k >= dungeons[i][0] and 1 <= k-dungeons[i][1] :\n",
    "            locate = (dungeons[:i] + dungeons[i+1:] \n",
    "                        if len(dungeons)-1 > i \n",
    "                        else dungeons[:i])\n",
    "            \n",
    "            dfs(k - dungeons[i][1], locate, 1) \n",
    "    \n",
    "    return max(answer)"
   ]
  }
 ],
 "metadata": {
  "language_info": {
   "name": "python"
  },
  "orig_nbformat": 4
 },
 "nbformat": 4,
 "nbformat_minor": 2
}
