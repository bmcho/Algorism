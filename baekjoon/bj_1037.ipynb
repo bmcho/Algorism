{
 "cells": [
  {
   "cell_type": "markdown",
   "metadata": {},
   "source": [
    "### [1037번 약수](https://www.acmicpc.net/problem/1037)\n",
    "\n",
    "#### 단순 구현\n",
    "##### 입력 받은 숫자를 오름 차순으로 정렬 수 앞에서 부터 최소 공배수를 찾는다\n",
    "##### 공배수 = 두 수의 최대 공약수 * 각 수의 나머지"
   ]
  },
  {
   "cell_type": "code",
   "execution_count": null,
   "metadata": {},
   "outputs": [],
   "source": [
    "#최대 공약수\n",
    "gcd = lambda x,y : y if x % y == 0 else gcd(y, x % y)\n",
    "\n",
    "n = int(input())\n",
    "numList = sorted(list(map(int,input().split())))\n",
    "\n",
    "LCM = numList[0]\n",
    "\n",
    "for i in numList :\n",
    "    gcdNum = gcd(LCM,i)\n",
    "    LCM = gcdNum * (LCM // gcdNum) * (i // gcdNum)\n",
    "\n",
    "\n",
    "LCM = LCM * numList[0] if LCM == numList[-1] else LCM\n",
    "\n",
    "print(LCM)"
   ]
  },
  {
   "cell_type": "markdown",
   "metadata": {},
   "source": [
    "#### 하지만 문제에서 배수A에 대한 모든 약수가 주어진다고 함\n",
    "#### 이럴때 sort 후 맨 앞과 맨 뒤의 수를 곱하면 배수A가 된다"
   ]
  },
  {
   "cell_type": "code",
   "execution_count": null,
   "metadata": {},
   "outputs": [],
   "source": [
    "n = int(input())\n",
    "numList = sorted(list(map(int,input().split())))\n",
    "print(numList[0] * numList[-1])"
   ]
  },
  {
   "cell_type": "markdown",
   "metadata": {},
   "source": []
  }
 ],
 "metadata": {
  "language_info": {
   "name": "python"
  },
  "orig_nbformat": 4
 },
 "nbformat": 4,
 "nbformat_minor": 2
}
