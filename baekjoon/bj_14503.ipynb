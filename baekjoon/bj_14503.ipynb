{
 "cells": [
  {
   "cell_type": "markdown",
   "metadata": {},
   "source": [
    "### [14503번 로봇 청소기](https://www.acmicpc.net/problem/14503)"
   ]
  },
  {
   "cell_type": "code",
   "execution_count": null,
   "metadata": {},
   "outputs": [],
   "source": [
    "'''\n",
    "그래프와 구현을 섞어놓은 문제 \n",
    "첫번쨰 시도에서 중간에 실패, 문제의 구현난이도는 높아 보이지 않았으나 구현 시 코드가 복잡해 지고 있었음.\n",
    "이유는 방향전환가 전진을 한번에 구하려고 했었기때문. 그래서 처음에 북쪽을 나타내는 dx,dy는 왼쪽으로 이동할 수 있는 좌표를 나태내고 있었고 후진 시 로직이복잡해짐\n",
    "-> 방향을 먼저 바꾸고 해당 방향으로 전진하도록 변경, 후진시에서 + 가 아닌 -로 구현하면 되기떄문에 훨씨 구현 난이도가 낮아짐\n",
    "\n",
    "'''\n",
    "\n",
    "'''\n",
    "d \n",
    "0 : 북쪽 \n",
    "1 : 동쪽  \n",
    "2 : 남쪽  \n",
    "3 : 서쪽 \n",
    "'''\n",
    "# dx = [0,-1,0,1]\n",
    "# dy = [-1,0,1,0]\n",
    "dx = [-1,0,1,0]\n",
    "dy = [0,1,0,-1]\n",
    "\n",
    "# bx = [1,0,-1,0]\n",
    "# by = [0,-1,0,1]\n",
    "\n",
    "n, m = map(int, input().split())\n",
    "x,y,d = map(int, input().split())\n",
    "matrix = [list(map(int, input().split())) for _ in range(n)]\n",
    "visited = [[0]*m for _ in range(n)]\n",
    "\n",
    "# q = []\n",
    "# q.append((r,c,d))\n",
    "visited[x][y] = 1\n",
    "\n",
    "'''\n",
    "현재 위치를 청소한다.\n",
    "현재 위치에서 다음을 반복하면서 인접한 칸을 탐색한다.\n",
    "현재 위치의 바로 왼쪽에 아직 청소하지 않은 빈 공간이 존재한다면, \n",
    "왼쪽 방향으로 회전한 다음 한 칸을 전진하고 1번으로 돌아간다. \n",
    "그렇지 않을 경우, 왼쪽 방향으로 회전한다. 이때, 왼쪽은 현재 바라보는 방향을 기준으로 한다.\n",
    "1번으로 돌아가거나 후진하지 않고 2a번 단계가 연속으로 네 번 실행되었을 경우, \n",
    "바로 뒤쪽이 벽이라면 작동을 멈춘다. 그렇지 않다면 한 칸 후진한다.\n",
    "'''\n",
    "\n",
    "cnt = 0\n",
    "\n",
    "while True :\n",
    "    d = d - 1 if d != 0 else 3\n",
    "    nx = x + dx[d]\n",
    "    ny = y + dy[d]\n",
    "    \n",
    "    #벽으로 둘러 쌓여있기 떄문에 nx,ny의 범위 체크 불필요\n",
    "    if matrix[nx][ny] == 0 and visited[nx][ny] == 0:\n",
    "        visited[nx][ny] = 1\n",
    "        x = nx\n",
    "        y = ny\n",
    "        cnt = 0\n",
    "        continue\n",
    "    \n",
    "    else :\n",
    "        cnt += 1\n",
    "    \n",
    "    if cnt == 4:\n",
    "        nx = x - dx[d]\n",
    "        ny = y - dy[d]\n",
    "        \n",
    "        if matrix[nx][ny] == 0:\n",
    "            x = nx\n",
    "            y = ny\n",
    "            cnt = 0\n",
    "        \n",
    "        else:\n",
    "            break\n",
    "                \n",
    "print([y for x in visited for y in x].count(1))"
   ]
  }
 ],
 "metadata": {
  "interpreter": {
   "hash": "dcacb0086e9a4f4eabd41c33bf4faac5ea0a3337ed3f5eff0680afa930572c04"
  },
  "kernelspec": {
   "display_name": "Python 3.9.6 64-bit",
   "language": "python",
   "name": "python3"
  },
  "language_info": {
   "name": "python",
   "version": "3.9.6"
  },
  "orig_nbformat": 4
 },
 "nbformat": 4,
 "nbformat_minor": 2
}
