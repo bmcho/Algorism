{
 "cells": [
  {
   "cell_type": "markdown",
   "metadata": {},
   "source": [
    "### [1655번 가운데를 말해요](https://www.acmicpc.net/problem/1655)"
   ]
  },
  {
   "cell_type": "code",
   "execution_count": null,
   "metadata": {},
   "outputs": [],
   "source": [
    "'''\n",
    "예상대로 시간초과\n",
    "'''\n",
    "\n",
    "from sys import stdin\n",
    "\n",
    "n = int(stdin.readline().strip())\n",
    "\n",
    "lst = []\n",
    "\n",
    "for _ in range(n):\n",
    "  k = int(stdin.readline().strip())\n",
    "  lst.append(k)\n",
    "  lst.sort()\n",
    "  #짝수일때\n",
    "  if len(lst) % 2 == 0 :\n",
    "    m1 = len(lst)//2\n",
    "    m2 = m1 - 1\n",
    "    print(min(lst[m1], lst[m2]))\n",
    "  #홀수일때\n",
    "  else :\n",
    "    m = len(lst)//2\n",
    "    print(lst[m])\n"
   ]
  },
  {
   "cell_type": "code",
   "execution_count": null,
   "metadata": {},
   "outputs": [],
   "source": [
    "# '''\n",
    "# 최대힙, 최소 힙으로 구한다\n",
    "# '''\n",
    "from sys import stdin\n",
    "import heapq\n",
    "\n",
    "\n",
    "n = int(stdin.readline())\n",
    "maxH = []\n",
    "minH = []\n",
    "\n",
    "for i in range(n) :\n",
    "  \n",
    "  k = int(stdin.readline())\n",
    "\n",
    "  if len(maxH) == len(minH) :\n",
    "    heapq.heappush(maxH, (-k, k))\n",
    "  else :\n",
    "    heapq.heappush(minH, (k, k))\n",
    "\n",
    "  if i > 0 and maxH[0][1] > minH[0][1] :\n",
    "    max = heapq.heappop(maxH)[1]\n",
    "    min = heapq.heappop(minH)[1]\n",
    "\n",
    "    heapq.heappush(maxH, (-min, min))\n",
    "    heapq.heappush(minH, (max, max))\n",
    "  print(maxH[0][1])"
   ]
  }
 ],
 "metadata": {
  "interpreter": {
   "hash": "dcacb0086e9a4f4eabd41c33bf4faac5ea0a3337ed3f5eff0680afa930572c04"
  },
  "kernelspec": {
   "display_name": "Python 3.9.6 64-bit",
   "language": "python",
   "name": "python3"
  },
  "language_info": {
   "name": "python",
   "version": "3.9.6"
  },
  "orig_nbformat": 4
 },
 "nbformat": 4,
 "nbformat_minor": 2
}
