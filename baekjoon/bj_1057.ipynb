{
 "cells": [
  {
   "cell_type": "markdown",
   "metadata": {},
   "source": [
    "### [1057번 토너먼트](https://www.acmicpc.net/problem/1057)\n",
    "\n",
    "### 둘씩 짝지어서 경기를 치루고 김지민과 임한수는 무조건 이긴다는 조건이 있다\n",
    "### 그러면 다른 사람들과 상관없이 김지민과, 임한수가 맞붙을때의 경우만 신경써주면된다"
   ]
  },
  {
   "cell_type": "code",
   "execution_count": null,
   "metadata": {},
   "outputs": [],
   "source": [
    "'''\n",
    "같은 대진일 경우 2로 나눈 올림값이 서로 같다.\n",
    "'''\n",
    "import math\n",
    "n, a, b = map(int, input().split())\n",
    "    \n",
    "cnt = 0\n",
    "while a != b :\n",
    "    a = math.ceil(a/2)\n",
    "    b = math.ceil(b/2)\n",
    "    cnt += 1\n",
    "\n",
    "print(cnt)"
   ]
  }
 ],
 "metadata": {
  "language_info": {
   "name": "python"
  },
  "orig_nbformat": 4
 },
 "nbformat": 4,
 "nbformat_minor": 2
}
