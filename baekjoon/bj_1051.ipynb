{
 "cells": [
  {
   "cell_type": "markdown",
   "metadata": {},
   "source": [
    "### [1051번 숫자 정사각형](https://www.acmicpc.net/problem/1051)\n",
    "\n",
    "#### 단순 구현\n",
    "##### 정사각형이여야 하므로 가로,세로 길이를 1씩 늘려가며 비교"
   ]
  },
  {
   "cell_type": "code",
   "execution_count": null,
   "metadata": {},
   "outputs": [],
   "source": [
    "'''\n",
    "모든 테스트케이스 통과 but 바로... 틀렸습니다\n",
    "'''\n",
    "from sys import stdin\n",
    "\n",
    "n,m = map(int, input().split())\n",
    "\n",
    "square = []\n",
    "for _ in range(n) :\n",
    "    square.append(list(map(int, list(stdin.readline().strip()))))\n",
    "\n",
    "#최소 정사각형의 크기\n",
    "maxArea = 1\n",
    "for i in range(n) :\n",
    "    #maxSize를 1로 시작을 했기때문에 2*2 사각형부터 비교하면됨\n",
    "    for j in range(i, m) :\n",
    "        move = 1\n",
    "        while True :\n",
    "            if i + move >= n or j + move >= m : break\n",
    "\n",
    "            vertex1,vertex2,vertex3,vertex4 = square[i][j], square[i][j + move],  square[i+move][j+move], square[i+move][j]\n",
    "            if vertex1 == vertex2 == vertex3 == vertex4 :\n",
    "                maxArea = max(maxArea, (move+1)**2)\n",
    "            move += 1\n",
    "\n",
    "print(maxArea)            "
   ]
  },
  {
   "cell_type": "code",
   "execution_count": null,
   "metadata": {},
   "outputs": [],
   "source": [
    "'''\n",
    "성공\n",
    "2*2 부터 비교할꺼기 때문에 for문을 실행할때 n,m 각 -1해줌\n",
    "'''\n",
    "from sys import stdin\n",
    "\n",
    "n,m = map(int, input().split())\n",
    "square = []\n",
    "for _ in range(n) :\n",
    "    square.append(list(map(int, stdin.readline().strip())))\n",
    "\n",
    "#최소 정사각형의 크기\n",
    "maxArea = 1\n",
    "for i in range(n-1) :\n",
    "    #maxSize를 1로 시작을 했기때문에 2*2 사각형부터 비교하면됨\n",
    "    for j in range(m-1) :\n",
    "        move = 1\n",
    "        while True :\n",
    "            if i + move >= n or j + move >= m : break\n",
    "            vertex1,vertex2,vertex3,vertex4 = square[i][j], square[i][j+move],  square[i+move][j+move], square[i+move][j]\n",
    "            if vertex1 == vertex2 == vertex3 == vertex4 :\n",
    "                maxArea = max(maxArea, (move+1)**2)\n",
    "            move += 1\n",
    "\n",
    "print(maxArea)            "
   ]
  },
  {
   "cell_type": "code",
   "execution_count": null,
   "metadata": {},
   "outputs": [],
   "source": [
    "'''\n",
    "성공\n",
    "while이 아닌 n,m중 작은값을 구해 그 만큼 더해준다\n",
    "'''\n",
    "from sys import stdin\n",
    "\n",
    "n,m = map(int, stdin.readline().strip().split())\n",
    "\n",
    "square = []\n",
    "for i in range (n):\n",
    "    square.append(list(map(int, stdin.readline().strip())))\n",
    "\n",
    "# 최소 정사각형의 크기\n",
    "maxArea = 1\n",
    "MIN = min(n,m)\n",
    "for i in range(n-1) :\n",
    "    #maxSize를 1로 시작을 했기때문에 2*2 사각형부터 비교하면됨\n",
    "    for j in range(m-1) :\n",
    "        for k in range(1,MIN) :\n",
    "            if i + k >= n or j + k >= m : break\n",
    "            vertex1,vertex2,vertex3,vertex4 = square[i][j], square[i][j+k],  square[i+k][j+k], square[i+k][j]\n",
    "            if vertex1 == vertex2 and vertex1 == vertex3 and vertex1 == vertex4 :\n",
    "                maxArea = max(maxArea, (k+1)**2)\n",
    "\n",
    "print(maxArea)            \n",
    "\n",
    "\n"
   ]
  }
 ],
 "metadata": {
  "language_info": {
   "name": "python"
  },
  "orig_nbformat": 4
 },
 "nbformat": 4,
 "nbformat_minor": 2
}
