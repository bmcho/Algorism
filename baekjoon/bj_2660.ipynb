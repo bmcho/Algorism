{
 "cells": [
  {
   "cell_type": "markdown",
   "metadata": {},
   "source": [
    "### [2660번 회장뽑기](https://www.acmicpc.net/problem/2660)"
   ]
  },
  {
   "cell_type": "code",
   "execution_count": null,
   "metadata": {},
   "outputs": [],
   "source": [
    "'''\n",
    "bfs로 간단하게 풀수 있었다.\n",
    "플로이드 와샬 알고리즘으로도 풀 수 있다고 한다.\n",
    "'''\n",
    "def bfs(c):\n",
    "    visited = [-1] * (n+1)\n",
    "    visited[c] = 0\n",
    "    \n",
    "    q = [c]\n",
    "    \n",
    "    while q :\n",
    "        p = q.pop(0)\n",
    "        \n",
    "        for i in f[p]:\n",
    "            if visited[i] == -1:\n",
    "                visited[i] = visited[p] + 1\n",
    "                q.append(i)\n",
    "                \n",
    "    return max(visited) \n",
    "\n",
    "n = int(input())\n",
    "f = [[] for _ in range(n+1)]\n",
    "\n",
    "while 1:\n",
    "    a,b = map(int, input().split())\n",
    "    \n",
    "    if a == -1 and b == -1:\n",
    "        break\n",
    "    \n",
    "    f[a].append(b)\n",
    "    f[b].append(a)\n",
    "\n",
    "min_score = 9999\n",
    "r = []\n",
    "\n",
    "for i in range(1,n+1):\n",
    "    score = bfs(i)\n",
    "    \n",
    "    if score < min_score :\n",
    "        min_score = score\n",
    "        r = [i]\n",
    "    elif score == min_score :\n",
    "        r.append(i)\n",
    "    \n",
    "print(min_score,len(r))\n",
    "print(*r)\n",
    "\n"
   ]
  }
 ],
 "metadata": {
  "language_info": {
   "name": "python"
  },
  "orig_nbformat": 4
 },
 "nbformat": 4,
 "nbformat_minor": 2
}
