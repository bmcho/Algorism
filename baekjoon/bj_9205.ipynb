{
 "cells": [
  {
   "cell_type": "markdown",
   "metadata": {},
   "source": [
    "### [9205번 맥주 마시면서 걸어가기](https://www.acmicpc.net/problem/9205)\n"
   ]
  },
  {
   "cell_type": "code",
   "execution_count": null,
   "metadata": {},
   "outputs": [],
   "source": [
    "'''\n",
    "처음에 너무 단순하게 생각했던것이 독이되었다.\n",
    "문제에는 집에서 페스티벌 중간에 편의점 갯수가 있고,위치를 알려주었지 편의점을 순서대로 들리란 글을 없었는데\n",
    "바보 같이 순서대로 받은 편의점 좌표대로 queue를 돌리고 있었다.\n",
    "'''\n",
    "t = int(input())\n",
    "result = []\n",
    "\n",
    "def solution(sx,sy, ex,ey):\n",
    "    q = []\n",
    "    q.append([sx,sy])\n",
    "    \n",
    "    while q:\n",
    "        x,y = q.pop(0)\n",
    "       \n",
    "        if abs(x-ex) + abs(y-ey) <= 1000 :\n",
    "            return 'happy'\n",
    "        \n",
    "        for i in range(n):\n",
    "            if visited[i] == 1:\n",
    "                continue\n",
    "            \n",
    "            nx, ny = conv[i]\n",
    "            \n",
    "            if abs(x-nx) + abs(y-ny) <= 1000:\n",
    "                q.append([nx, ny])\n",
    "                visited[i] = 1\n",
    "               \n",
    "    return 'sad'\n",
    "    \n",
    "for i in range(t):\n",
    "    n = int(input())\n",
    "    sx,sy = map(int,input().split())\n",
    "    conv = []\n",
    "    visited = [0] * (n+1)\n",
    "    for _ in range(n):\n",
    "        conv.append(list(map(int,input().split())))    \n",
    "    ex,ey = map(int,input().split())\n",
    "        \n",
    "    result.append(solution(sx,sy, ex,ey))\n",
    "    \n",
    "for r in result:\n",
    "    print(r)"
   ]
  }
 ],
 "metadata": {
  "interpreter": {
   "hash": "dcacb0086e9a4f4eabd41c33bf4faac5ea0a3337ed3f5eff0680afa930572c04"
  },
  "kernelspec": {
   "display_name": "Python 3.9.6 64-bit",
   "language": "python",
   "name": "python3"
  },
  "language_info": {
   "codemirror_mode": {
    "name": "ipython",
    "version": 3
   },
   "file_extension": ".py",
   "mimetype": "text/x-python",
   "name": "python",
   "nbconvert_exporter": "python",
   "pygments_lexer": "ipython3",
   "version": "3.9.6"
  },
  "orig_nbformat": 4
 },
 "nbformat": 4,
 "nbformat_minor": 2
}
