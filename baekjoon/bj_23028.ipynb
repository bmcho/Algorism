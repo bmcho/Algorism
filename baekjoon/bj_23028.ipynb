{
 "cells": [
  {
   "cell_type": "markdown",
   "metadata": {},
   "source": [
    "### [23028번 5학년은 다니기 싫어요](https://www.acmicpc.net/problem/23028)\n",
    "### 단순 구현 문제 Greed 비슷"
   ]
  },
  {
   "cell_type": "code",
   "execution_count": 1,
   "metadata": {},
   "outputs": [],
   "source": [
    "#통과 됐으나 코드가 쓸때 없이 길다\n",
    "\n",
    "from sys import stdin\n",
    "import math\n",
    "\n",
    "def solution() :\n",
    "    #기본정보 입력\n",
    "    n1, a1, b1 = map(int, stdin.readline().split())\n",
    "\n",
    "    #남은 학기, 남은 전공 학점(남은전공수업 수), 남은 학점(남은수업 수)\n",
    "    n2 = 8 - n1\n",
    "    a2 = math.ceil((66 - a1)/3)\n",
    "    b2 = math.ceil((130 - b1)/3)\n",
    "\n",
    "    # print(\"남은\")\n",
    "    # print(a2,b2)\n",
    "    # print(\"수업\")\n",
    "\n",
    "    curriculum = [list(map(int, stdin.readline().split())) + [6] for _ in range(10)]\n",
    "\n",
    "    # 입력의 크기가 그렇게 그지 않으니 그냥 무식하게\n",
    "    # 전공수업을 최대로 듣고 나머지를 전공수업 외 수업으로 채우면 된다\n",
    "    major_cnt = 0\n",
    "    side_cnt = 0\n",
    "    for i in range(n2) :\n",
    "        major_cnt += curriculum[i][0]\n",
    "        curriculum[i][2] -= curriculum[i][0]\n",
    "\n",
    "    a2 -= major_cnt \n",
    "    b2 -= major_cnt\n",
    "    \n",
    "    if a2 <= 0 and b2 <= 0 :\n",
    "        return \"Nice\"\n",
    "    elif a2 > 0 :\n",
    "        return \"Nae ga wae\"\n",
    "    \n",
    "\n",
    "    for i in range(n2) :\n",
    "         side_cnt += curriculum[i][1] if curriculum[i][1] < curriculum[i][2] else curriculum[i][1] - curriculum[i][2]\n",
    "         \n",
    "    b2 -= side_cnt\n",
    "    if b2 <= 0 :\n",
    "        return \"Nice\"\n",
    "    else :\n",
    "        return \"Nae ga wae\"\n",
    "\n",
    "print(solution())"
   ]
  },
  {
   "cell_type": "code",
   "execution_count": null,
   "metadata": {},
   "outputs": [],
   "source": [
    "\n",
    "# 코드 리펙토링\n",
    "\n",
    "from sys import stdin\n",
    "\n",
    "def solution() :\n",
    "    #기본정보 입력\n",
    "    n, a, b = map(int, stdin.readline().split())\n",
    "    #남은 학기만큼의 커리큘럼\n",
    "    c = [list(map(int, stdin.readline().split())) + [6] for _ in range(10)][:8-n]\n",
    "\n",
    "    m,s = 0,0\n",
    "    for i in c :\n",
    "        m += i[0] * 3 \n",
    "        s += i[0] * 3 + min(6 - i[0], i[1]) * 3\n",
    "\n",
    "    if a + m >= 66 and b + s >= 130 :\n",
    "        return 'Nice'\n",
    "    else :\n",
    "        return 'Nae ga wae'    \n",
    "\n",
    "print(solution())"
   ]
  }
 ],
 "metadata": {
  "interpreter": {
   "hash": "dcacb0086e9a4f4eabd41c33bf4faac5ea0a3337ed3f5eff0680afa930572c04"
  },
  "kernelspec": {
   "display_name": "Python 3.9.6 64-bit",
   "name": "python3"
  },
  "language_info": {
   "codemirror_mode": {
    "name": "ipython",
    "version": 3
   },
   "file_extension": ".py",
   "mimetype": "text/x-python",
   "name": "python",
   "nbconvert_exporter": "python",
   "pygments_lexer": "ipython3",
   "version": "3.9.6"
  },
  "orig_nbformat": 4
 },
 "nbformat": 4,
 "nbformat_minor": 2
}
