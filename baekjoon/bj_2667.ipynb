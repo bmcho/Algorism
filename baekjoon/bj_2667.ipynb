{
 "cells": [
  {
   "cell_type": "markdown",
   "metadata": {},
   "source": [
    "### [2667 단지번호붙이기](https://www.acmicpc.net/problem/2667)"
   ]
  },
  {
   "cell_type": "code",
   "execution_count": null,
   "metadata": {},
   "outputs": [],
   "source": [
    "'''\n",
    "N이 최대 25 \n",
    "단지를 전부 탐색할 경우 O(25*25 + 그래프탐색시간복잡도)\n",
    "'''\n",
    "dx = [1,-1,0,0]\n",
    "dy = [0,0,1,-1]\n",
    "cnt = 0\n",
    "\n",
    "def dfs(y,x):\n",
    "    global cnt \n",
    "    apt[y][x] = '0'\n",
    "    cnt += 1\n",
    "    \n",
    "    for i in range(4):\n",
    "        ny = dy[i] + y\n",
    "        nx = dx[i] + x\n",
    "        \n",
    "        if ny < 0 or nx < 0 or ny >= N or nx >= N :\n",
    "            continue\n",
    "        \n",
    "        if apt[ny][nx] != '0' :\n",
    "            dfs(ny, nx)\n",
    "        \n",
    "N = int(input())\n",
    "apt = [list(input()) for _ in range(N)]\n",
    "result = []\n",
    "\n",
    "for i in range(N):\n",
    "    for j in range(N):\n",
    "        if apt[i][j] == '1' :\n",
    "            cnt = 0\n",
    "            dfs(i,j)\n",
    "            result.append(cnt)\n",
    "            \n",
    "result.sort()\n",
    "\n",
    "print(len(result))\n",
    "for i in result:\n",
    "    print(i)"
   ]
  }
 ],
 "metadata": {
  "language_info": {
   "name": "python"
  },
  "orig_nbformat": 4
 },
 "nbformat": 4,
 "nbformat_minor": 2
}
