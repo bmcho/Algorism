{
 "cells": [
  {
   "cell_type": "markdown",
   "metadata": {},
   "source": [
    "### [13460번 구슬탈출](https://www.acmicpc.net/problem/13460)"
   ]
  },
  {
   "cell_type": "code",
   "execution_count": null,
   "metadata": {},
   "outputs": [],
   "source": [
    "'''\n",
    "정수 N, M (3 ≤ N, M ≤ 10) 이기 때문에 그냥 그래프(BFS,DFS)로 풀면 되곘다\n",
    "\n",
    "항상 빨간 구슬이 먼저 빠져야하기때문에 옮길수있는 변수는\n",
    "\n",
    "# 벽이 아닌곳 and 파란공이 아닌곳으로 볼수있다.\n",
    "'''"
   ]
  },
  {
   "cell_type": "code",
   "execution_count": null,
   "metadata": {},
   "outputs": [],
   "source": [
    "'''\n",
    "처음과 생각했던것과 다르게 생각해줘야 할것이 많은 문제였다..\n",
    "파란 구글도 신경써줘야한다\n",
    "\n",
    "'''\n",
    "from sys import stdin\n",
    "\n",
    "N,M = map(int, stdin.readline().split())\n",
    "\n",
    "\n",
    "v = [[[[False] * M for _ in range(N)] for _ in range(M)] for _ in range(N)]\n",
    "q = []\n",
    "m = []\n",
    "rx,ry,bx,by = 0,0,0,0\n",
    "mx = [0,1,0,-1];\n",
    "my = [1,0,-1,0];\n",
    "\n",
    "for _ in range(N):\n",
    "  m.append(stdin.readline().strip())\n",
    "\n",
    "#R의 좌표 찾기\n",
    "for i in range(N):\n",
    "  for j in range(M):\n",
    "    if m[i][j] == \"R\" :\n",
    "      #R, 즉 시작점\n",
    "      ry,rx = i,j\n",
    "    elif m[i][j] == \"B\" :\n",
    "      by,bx = i,j\n",
    "\n",
    "q.append([ry, rx, by, bx, 1])\n",
    "v[ry][rx][by][bx] = True\n",
    "\n",
    "def move(y,x,my,mx):\n",
    "  cnt = 0\n",
    "  while m[y+my][x+mx] != '#' and m[y][x] != 'O':\n",
    "    y += my\n",
    "    x += mx\n",
    "    cnt += 1\n",
    "  \n",
    "  return y,x,cnt\n",
    "\n",
    "#bfs\n",
    "def solution():\n",
    "  while(len(q)):\n",
    "    ry,rx,by,bx,d = q.pop(0)\n",
    "    if d > 10 :\n",
    "      break\n",
    "\n",
    "    for i in range(4) :\n",
    "      nry, nrx, rcnt = move(ry, rx, my[i], mx[i])\n",
    "      nby, nbx, bcnt = move(by, bx, my[i], mx[i])\n",
    "\n",
    "      # 파란 구슬이 입구에 도달하지 않앗을때 \n",
    "      if m[nby][nbx] != 'O' :\n",
    "\n",
    "        # 빨간 구슬이 입구에 도달했다면\n",
    "        if m[nry][nrx] == 'O' :\n",
    "          print(d)\n",
    "          return\n",
    "      \n",
    "        #두개의 구슬이 겹쳤을때\n",
    "        if nrx == nbx and nry == nby :\n",
    "          if rcnt > bcnt :\n",
    "            nry -= my[i]\n",
    "            nrx -= mx[i]\n",
    "          else :\n",
    "            nby -= my[i]\n",
    "            nbx -= mx[i]\n",
    "\n",
    "        #처음 방문한곳이라면\n",
    "        if not v[nry][nrx][nby][nbx] :\n",
    "          v[nry][nrx][nby][nbx] = True \n",
    "          q.append([nry,nrx,nby,nbx, d+1])\n",
    "\n",
    "  print(-1)\n",
    "\n",
    "solution()\n",
    "  \n"
   ]
  }
 ],
 "metadata": {
  "interpreter": {
   "hash": "dcacb0086e9a4f4eabd41c33bf4faac5ea0a3337ed3f5eff0680afa930572c04"
  },
  "kernelspec": {
   "display_name": "Python 3.9.6 64-bit",
   "language": "python",
   "name": "python3"
  },
  "language_info": {
   "name": "python",
   "version": "3.9.6"
  },
  "orig_nbformat": 4
 },
 "nbformat": 4,
 "nbformat_minor": 2
}
