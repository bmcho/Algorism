{
 "cells": [
  {
   "cell_type": "markdown",
   "metadata": {},
   "source": [
    "[Z](https://www.acmicpc.net/problem/1074)"
   ]
  },
  {
   "cell_type": "code",
   "execution_count": null,
   "metadata": {},
   "outputs": [],
   "source": [
    "N, R, C = map(int, input().split())\n",
    "\n",
    "def solution(N,R,C):\n",
    "    #4등분했을때, 하나의개수\n",
    "    answer = 0\n",
    "\n",
    "    while N != 0:\n",
    "        N -= 1\n",
    "        n_1 = 2**N\n",
    "        cnt_n_1 = n_1**2\n",
    "        #R이 n_1보다 작거나 같고 C가 n_1보다 클때 4사분면 중 2사분면\n",
    "        if R < n_1 and C >= n_1:\n",
    "            answer += cnt_n_1\n",
    "            C -= n_1\n",
    "        #R이 n_1보다 크고 C가 n_1보다 같거나 작을때 4사분면 중 3사분면\n",
    "        elif R >= n_1 and C < n_1:\n",
    "            R -= n_1\n",
    "            answer += cnt_n_1*2\n",
    "        #R,C둘다 n_1보다 클 때 4사분면 중 4사분면\n",
    "        elif R >= n_1 and C >= n_1:\n",
    "            R -= n_1\n",
    "            C -= n_1\n",
    "            answer += cnt_n_1*3\n",
    "\n",
    "    return answer\n",
    "    \n",
    "    \n",
    "print(solution(N,R,C))"
   ]
  },
  {
   "cell_type": "code",
   "execution_count": null,
   "metadata": {},
   "outputs": [],
   "source": [
    "'''\n",
    "다른 사람의 재귀 풀이법\n",
    "재귀적 생각을 가지는 것은 힘든것 같다.\n",
    "'''\n",
    "N, R, C = map(int, input().split())\n",
    "def sol(N, r, c):\n",
    "\n",
    "    if N == 0:\n",
    "        return 0\n",
    "\n",
    "    return 2*(r%2)+(c%2) + 4*sol(N-1, r//2, c//2)\n",
    "\n",
    "print(sol(N, R, C))\n"
   ]
  }
 ],
 "metadata": {
  "language_info": {
   "name": "python"
  },
  "orig_nbformat": 4
 },
 "nbformat": 4,
 "nbformat_minor": 2
}
