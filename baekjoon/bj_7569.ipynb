{
 "cells": [
  {
   "cell_type": "markdown",
   "metadata": {},
   "source": [
    "### [7569번 토마토](https://www.acmicpc.net/problem/7569)"
   ]
  },
  {
   "cell_type": "code",
   "execution_count": null,
   "metadata": {},
   "outputs": [],
   "source": [
    "'''\n",
    "처음에는 bfs 메서드 없이, deque 없이 시도하자 바로 시간초과\n",
    "그래서 deque로 도전 체점 중간 시간초과\n",
    "마지막으로 bfs 메소드를 작성한 후 실행하자 통과\n",
    "list를 -> deque 사용시 속도가 향상되는것은 이해가되나\n",
    "bfs를 따로 메소드를 작성한다고 통과되는것에 대해서는 조금 이해가 되지를 않는다.\n",
    "'''\n",
    "\n",
    "from collections import deque\n",
    "\n",
    "M,N,H = map(int, input().split())\n",
    "\n",
    "dx = [1, -1, 0, 0, 0, 0]\n",
    "dy = [0, 0, -1, 1, 0, 0]\n",
    "dz = [0, 0, 0, 0, -1, 1]\n",
    "\n",
    "def bfs():\n",
    "    while q:\n",
    "        y,x,z = q.popleft()\n",
    "\n",
    "        for i in range(6):\n",
    "            ny = y + dy[i]\n",
    "            nx = x + dx[i]\n",
    "            nz = z + dz[i]\n",
    "\n",
    "            if 0 <= nx < M and 0 <= ny < N and 0 <= nz < H and matrix[nz][ny][nx] == 0:\n",
    "                matrix[nz][ny][nx] = matrix[z][y][x] + 1\n",
    "                q.append([ny,nx,nz])\n",
    "\n",
    "matrix = [[list(map(int,input().split())) for _ in range(N)] for _ in range(H)]\n",
    "\n",
    "q = deque()\n",
    "for i in range(H):\n",
    "    for j in range(N):\n",
    "        for k in range(M):\n",
    "            if matrix[i][j][k] == 1:\n",
    "                q.append([j,k,i])\n",
    "\n",
    "bfs()\n",
    "\n",
    "IsPossible = True\n",
    "day = -1\n",
    "\n",
    "for a in matrix:\n",
    "    for b in a:\n",
    "        for c in b:\n",
    "            if c == 0:\n",
    "                IsPossible = False\n",
    "                continue\n",
    "            day = max(day, c)          \n",
    "\n",
    "if not IsPossible :\n",
    "    print(-1)\n",
    "elif day == 1:\n",
    "    print(0)\n",
    "else:\n",
    "    print(day-1)"
   ]
  }
 ],
 "metadata": {
  "interpreter": {
   "hash": "dcacb0086e9a4f4eabd41c33bf4faac5ea0a3337ed3f5eff0680afa930572c04"
  },
  "kernelspec": {
   "display_name": "Python 3.9.6 64-bit",
   "language": "python",
   "name": "python3"
  },
  "language_info": {
   "name": "python",
   "version": "3.9.6"
  },
  "orig_nbformat": 4
 },
 "nbformat": 4,
 "nbformat_minor": 2
}
