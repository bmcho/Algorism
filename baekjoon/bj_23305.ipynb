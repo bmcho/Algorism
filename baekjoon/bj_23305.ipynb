{
 "cells": [
  {
   "cell_type": "markdown",
   "metadata": {},
   "source": [
    "### [23305번 수강변경](https://www.acmicpc.net/problem/23305)\n",
    "### 단순 구현문제, 그리디"
   ]
  },
  {
   "cell_type": "code",
   "execution_count": null,
   "metadata": {},
   "outputs": [],
   "source": [
    "'''\n",
    "실패 : 시간초과\n",
    "pop의 성능이 많이 떨어짐\n",
    "'''\n",
    "from sys import stdin\n",
    "\n",
    "def solution() :\n",
    "    n = stdin.readline()\n",
    "    a = sorted(list(map(int, stdin.readline().split())))\n",
    "    b = sorted(list(map(int, stdin.readline().split())))\n",
    "\n",
    "    aRun = 0\n",
    "    bRun = 0\n",
    "\n",
    "    while len(a) != aRun and len(b) != bRun :\n",
    "        ta = a[aRun]\n",
    "        tb = b[bRun]\n",
    "        if ta == tb :\n",
    "            a.pop(aRun)\n",
    "            b.pop(bRun)\n",
    "            continue\n",
    "        else :\n",
    "            if ta > tb :\n",
    "                bRun += 1\n",
    "            else :\n",
    "                aRun += 1\n",
    "    \n",
    "    return len(a) if len(a) != 0 else len(b)\n",
    "\n",
    "print(solution())\n"
   ]
  },
  {
   "cell_type": "code",
   "execution_count": null,
   "metadata": {},
   "outputs": [],
   "source": [
    "'''\n",
    "성공\n",
    "pop을 했던 코드를 단순 index으로 색출하겠끔 변경 코드가 지저분\n",
    "'''\n",
    "from sys import stdin\n",
    "\n",
    "def solution() :\n",
    "    n = stdin.readline()\n",
    "    a = sorted(list(map(int, stdin.readline().split())))\n",
    "    b = sorted(list(map(int, stdin.readline().split())))\n",
    "\n",
    "    if a == b :\n",
    "        return 0\n",
    "\n",
    "    aRun = 0\n",
    "    bRun = 0\n",
    "\n",
    "    while len(a) != aRun and len(b) != bRun :\n",
    "        ta = a[aRun]\n",
    "        tb = b[bRun]\n",
    "        if ta == tb :\n",
    "            a[aRun] = 0\n",
    "            b[bRun] = 0\n",
    "            bRun += 1\n",
    "            aRun += 1\n",
    "            continue\n",
    "        else :\n",
    "            if ta > tb :\n",
    "                bRun += 1\n",
    "            else :\n",
    "                aRun += 1\n",
    "    \n",
    "    return len([i for i in range(len(b)) if b[i] != 0])\n",
    "\n",
    "print(solution())"
   ]
  },
  {
   "cell_type": "code",
   "execution_count": null,
   "metadata": {},
   "outputs": [],
   "source": [
    "'''\n",
    "코드 리펙토링\n",
    "'''\n",
    "from sys import stdin\n",
    "\n",
    "def solution() :\n",
    "    stdin.readline()\n",
    "    a = list(map(int, stdin.readline().split()))\n",
    "    b = list(map(int, stdin.readline().split()))\n",
    "    c = [0] * 1000001\n",
    "\n",
    "    for i in a :\n",
    "        c[i] += 1\n",
    "        \n",
    "    for i in b :\n",
    "        if c[i] :\n",
    "            c[i] -= 1\n",
    "    return sum(c)\n",
    "\n",
    "print(solution())"
   ]
  },
  {
   "cell_type": "markdown",
   "metadata": {},
   "source": [
    "###[다른사람코드](https://www.acmicpc.net/source/34946444)\n",
    "### collections의 Counter 사용\n",
    "### dict의 keys,values 사용 가능\n",
    "### Counter({'3': 3, '2': 2}) Counter({'3': 2, '2': 2, '1': 1}) 이런 식의 형태로 반환\n",
    "### 두 개의 Counter를 연산 가능\n",
    "### + : Counter({'3': 5, '2': 4, '1': 1})\n",
    "### - : Counter({'1': 1})"
   ]
  }
 ],
 "metadata": {
  "language_info": {
   "name": "python"
  },
  "orig_nbformat": 4
 },
 "nbformat": 4,
 "nbformat_minor": 2
}
