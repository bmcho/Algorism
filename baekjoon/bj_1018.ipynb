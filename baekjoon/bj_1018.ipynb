{
 "cells": [
  {
   "cell_type": "markdown",
   "metadata": {},
   "source": [
    "###문제링크\n",
    "https://www.acmicpc.net/problem/1018 - 채스판 다시 칠하기\n",
    "\n",
    "#### 단순 구현문제"
   ]
  },
  {
   "cell_type": "code",
   "execution_count": null,
   "metadata": {},
   "outputs": [],
   "source": [
    "n,m = map(int, input().split())\n",
    "chessboard = []\n",
    "for _ in range(n) :\n",
    "    chessboard.append(input())\n",
    "\n",
    "min_cnt = 9999\n",
    "\n",
    "def solution(board) :\n",
    "    reverseCnt1 = 0\n",
    "    reverseCnt2 = 0\n",
    "    # reverseCnt1 : [0][0]이 W일때\n",
    "    # reverseCnt2 : [0][0]이 B일때\n",
    "    for row in range(8) :\n",
    "        #홀수행\n",
    "        if row % 2 == 1 :\n",
    "            reverseCnt1 += board[row][:8:2].count('B')\n",
    "            reverseCnt1 += board[row][1:8:2].count('W')\n",
    "\n",
    "            reverseCnt2 += board[row][:8:2].count('W')\n",
    "            reverseCnt2 += board[row][1:8:2].count('B')\n",
    "        #짝수행\n",
    "        else :\n",
    "            reverseCnt1 += board[row][:8:2].count('W')\n",
    "            reverseCnt1 += board[row][1:8:2].count('B')\n",
    "\n",
    "            reverseCnt2 += board[row][:8:2].count('B')\n",
    "            reverseCnt2 += board[row][1:8:2].count('W')\n",
    "            \n",
    "    return  min(reverseCnt1,reverseCnt2)\n",
    "\n",
    "# 체스판은  8*8 이기에 -7을 해주면 된다\n",
    "for row in range(n-7) :\n",
    "    for col in range(m-7) :\n",
    "        sliceBoard = [row[col:col+8] for row in chessboard[row:row+8]]\n",
    "        min_cnt = min(min_cnt ,solution(sliceBoard))\n",
    "\n",
    "print(min_cnt) \n"
   ]
  },
  {
   "cell_type": "markdown",
   "metadata": {},
   "source": []
  }
 ],
 "metadata": {
  "interpreter": {
   "hash": "b3ba2566441a7c06988d0923437866b63cedc61552a5af99d1f4fb67d367b25f"
  },
  "kernelspec": {
   "display_name": "Python 3.8.8 64-bit ('base': conda)",
   "name": "python3"
  },
  "language_info": {
   "codemirror_mode": {
    "name": "ipython",
    "version": 3
   },
   "file_extension": ".py",
   "mimetype": "text/x-python",
   "name": "python",
   "nbconvert_exporter": "python",
   "pygments_lexer": "ipython3",
   "version": "3.8.8"
  },
  "orig_nbformat": 4
 },
 "nbformat": 4,
 "nbformat_minor": 2
}
