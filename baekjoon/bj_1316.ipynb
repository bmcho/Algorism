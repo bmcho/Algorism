{
 "cells": [
  {
   "cell_type": "markdown",
   "metadata": {},
   "source": [
    "### [1316번 그룹단어체커](https://www.acmicpc.net/problem/1316)"
   ]
  },
  {
   "cell_type": "code",
   "execution_count": 1,
   "metadata": {},
   "outputs": [
    {
     "name": "stdout",
     "output_type": "stream",
     "text": [
      "!!!\n"
     ]
    }
   ],
   "source": [
    "from sys import stdin\n",
    "\n",
    "\n",
    "n = int(stdin.readline().strip())\n",
    "words = [stdin.readline().strip() for i in range(n)]\n",
    "\n",
    "result = 0\n",
    "\n",
    "for word in words :\n",
    "    check = set()\n",
    "    fl = True\n",
    "    for i in range(len(word)):\n",
    "\n",
    "        if word[i] in check :\n",
    "            fl = False\n",
    "            break\n",
    "        if i < len(word)-1 and word[i] != word[i+1]:\n",
    "            check.add(word[i])\n",
    "    \n",
    "    if fl :\n",
    "        result += 1\n",
    "    \n",
    "print(result)"
   ]
  },
  {
   "cell_type": "code",
   "execution_count": null,
   "metadata": {},
   "outputs": [],
   "source": [
    "'''\n",
    "다른 사람들의 풀이\n",
    "str.find를 사용한 방법\n",
    "\n",
    "find가 맨 처음 index를 찾아 내는것을 이용한 방법\n",
    "\n",
    "abcabc의경우 find로 표현시\n",
    "0,1,2,0,1,2 ->  sorted -> aabbcc 가 된다\n",
    "'''\n",
    "\n",
    "result = 0\n",
    "for i in range(int(input())):\n",
    "    word = input()\n",
    "    if list(word) == sorted(word, key=word.find):\n",
    "        result += 1\n",
    "print(result)"
   ]
  }
 ],
 "metadata": {
  "interpreter": {
   "hash": "b3ba2566441a7c06988d0923437866b63cedc61552a5af99d1f4fb67d367b25f"
  },
  "kernelspec": {
   "display_name": "Python 3.8.8 ('base')",
   "language": "python",
   "name": "python3"
  },
  "language_info": {
   "codemirror_mode": {
    "name": "ipython",
    "version": 3
   },
   "file_extension": ".py",
   "mimetype": "text/x-python",
   "name": "python",
   "nbconvert_exporter": "python",
   "pygments_lexer": "ipython3",
   "version": "3.8.8"
  },
  "orig_nbformat": 4
 },
 "nbformat": 4,
 "nbformat_minor": 2
}
