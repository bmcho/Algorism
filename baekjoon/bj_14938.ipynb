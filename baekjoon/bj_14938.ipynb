{
 "cells": [
  {
   "cell_type": "markdown",
   "metadata": {},
   "source": [
    "[서강그라운드](https://www.acmicpc.net/problem/14938)"
   ]
  },
  {
   "cell_type": "code",
   "execution_count": null,
   "metadata": {},
   "outputs": [],
   "source": [
    "\"\"\"\n",
    "다익스트라 알고리즘으로 풀이, 100 * 100이기 떄문에 bigO에 대한 부담이 없었음\n",
    "\"\"\"\n",
    "from collections import defaultdict\n",
    "INF = float('inf')\n",
    "\n",
    "n,m,r = map(int, input().split())\n",
    "farming = [0] + list(map(int, input().split()))\n",
    "region = defaultdict(list)\n",
    "for _ in range(r):\n",
    "    a,b,c, = map(int, input().split())\n",
    "    region[a].append((b,c))\n",
    "    region[b].append((a,c))\n",
    "    \n",
    "def get_node(dis,visited):\n",
    "    min_v = INF\n",
    "    idx = 0\n",
    "    for i in range(1, n+1):\n",
    "        if dis[i] < min_v and not visited[i]:\n",
    "            min_v = dis[i]\n",
    "            idx = i\n",
    "            \n",
    "    return idx\n",
    "\n",
    "answer = -1\n",
    "\n",
    "for i in range(n):\n",
    "    visited = [0] * (n+1)\n",
    "    visited[i] = 1\n",
    "    dis = [INF] * (n+1)\n",
    "    dis[i] = 0\n",
    "    \n",
    "    for r in region[i]:\n",
    "        if r[0] == i: continue\n",
    "        dis[r[0]] = r[1]\n",
    "            \n",
    "    for j in range(n-1):\n",
    "        now = get_node(dis,visited)\n",
    "        visited[now] = 1\n",
    "        \n",
    "        for r in region[now]:\n",
    "            dis[r[0]] = min(dis[r[0]], dis[now] + r[1])\n",
    "    \n",
    "    item_cnt = 0     \n",
    "    for i in range(1,n+1):\n",
    "        if dis[i] <= m:\n",
    "            item_cnt += farming[i]\n",
    "            \n",
    "    answer = max(answer, item_cnt)\n",
    "    \n",
    "print(answer)"
   ]
  }
 ],
 "metadata": {
  "language_info": {
   "name": "python"
  },
  "orig_nbformat": 4
 },
 "nbformat": 4,
 "nbformat_minor": 2
}
