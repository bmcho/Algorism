{
 "cells": [
  {
   "cell_type": "markdown",
   "metadata": {},
   "source": [
    "### [3197번 백조의 호수](https://www.acmicpc.net/problem/3197)"
   ]
  },
  {
   "cell_type": "code",
   "execution_count": null,
   "metadata": {},
   "outputs": [],
   "source": [
    "'''\n",
    "bfs이지만 1 <= R,C <= 1500 이기 때문에 \n",
    "bfs만으로만 문제를 풀면 1500^2(녹는 bfs) * 1500^2(백조끼리 만나는 bfs) \n",
    "절재 제한시간인 1초안에 풀수가 없다.\n",
    "무엇을 더 추가해서 풀아야할텐데.. 내 실력으로 무엇을 추가해야할지 모르겠다\n",
    "'''\n",
    "\n",
    "'''\n",
    "구글링을 해보니 bfs + 이분탐색으로 풀이를 했다\n",
    "https://chldkato.tistory.com/58\n",
    "'''"
   ]
  },
  {
   "cell_type": "code",
   "execution_count": null,
   "metadata": {},
   "outputs": [],
   "source": [
    "from collections import deque\n",
    "import sys\n",
    "input = sys.stdin.readline\n",
    "dx = [1, -1, 0, 0]\n",
    "dy = [0, 0, 1, -1]\n",
    "\n",
    "r,c = map(int, input.split())"
   ]
  }
 ],
 "metadata": {
  "interpreter": {
   "hash": "dcacb0086e9a4f4eabd41c33bf4faac5ea0a3337ed3f5eff0680afa930572c04"
  },
  "kernelspec": {
   "display_name": "Python 3.9.6 64-bit",
   "language": "python",
   "name": "python3"
  },
  "language_info": {
   "name": "python",
   "version": "3.9.6"
  },
  "orig_nbformat": 4
 },
 "nbformat": 4,
 "nbformat_minor": 2
}
