{
 "cells": [
  {
   "cell_type": "markdown",
   "metadata": {},
   "source": [
    "### [1059번 약수](https://www.acmicpc.net/problem/1059)\n",
    "\n",
    "#### 단순 구현\n",
    "##### 좋은 구간의 규칙을 알면 쉽게 풀수 있는 문제 \n",
    "##### (n - s) * (e - n + 1) + (e - n)의 식으로 좋은 구간의 개수를 구할 수 있음\n",
    "##### (n이 포함된 반복되는 구간) * (반복되는 구간의 개수) + (n ~ e까지의 개수)\n",
    "ex)　4 </br>\n",
    "　　1 7 14 10 </br>\n",
    "　　3 </br>\n",
    "\n",
    "좋은 구간의 개수 </br>\n",
    "[2, 3], [2, 4], [2, 5], [2, 6], [3, 4], [3, 5], [3, 6] 총 7개 </br>\n",
    "s = 2, e = 6, n = 3 </br>\n",
    "(3 - 2) * (6 - 3 + 1) + (6 - 3) </br>\n",
    "(1번 반복) * (4개의 경우의수가) + ([3, 4], [3, 5], [3, 6])"
   ]
  },
  {
   "cell_type": "code",
   "execution_count": null,
   "metadata": {},
   "outputs": [],
   "source": []
  }
 ],
 "metadata": {
  "language_info": {
   "name": "python"
  },
  "orig_nbformat": 4
 },
 "nbformat": 4,
 "nbformat_minor": 2
}
