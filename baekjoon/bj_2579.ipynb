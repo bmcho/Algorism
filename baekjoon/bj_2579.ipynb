{
 "cells": [
  {
   "cell_type": "markdown",
   "metadata": {},
   "source": [
    "### [2579번 계단 오르기](https://www.acmicpc.net/problem/2579)"
   ]
  },
  {
   "cell_type": "code",
   "execution_count": null,
   "metadata": {},
   "outputs": [],
   "source": [
    "'''\n",
    "성공 \n",
    "dp를  max값인 301로 크기를 정해놓던가\n",
    "밑처럼 동적으로 메모리제이션하게 하려면\n",
    "if n > 1 <--요 조건들이 필수다.\n",
    "'''\n",
    "n = int(input())\n",
    "dp = []\n",
    "data = [int(input()) for _ in range(n)]\n",
    "\n",
    "dp.append(data[0])\n",
    "if n > 1 :\n",
    "    dp.append(data[0] + data[1])\n",
    "if n > 2 :\n",
    "    dp.append(max(data[1] + data[2], data[0] + data[2]))\n",
    "\n",
    "for i in range(3,n) :\n",
    "    dp.append(max(dp[i-3] + data[i-1] + data[i], dp[i-2] + data[i]))\n",
    "\n",
    "print(dp[-1])"
   ]
  }
 ],
 "metadata": {
  "language_info": {
   "name": "python"
  },
  "orig_nbformat": 4
 },
 "nbformat": 4,
 "nbformat_minor": 2
}
