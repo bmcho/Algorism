{
 "cells": [
  {
   "cell_type": "markdown",
   "metadata": {},
   "source": [
    "### [12865번 평범한 배낭](https://www.acmicpc.net/problem/12865)"
   ]
  },
  {
   "cell_type": "code",
   "execution_count": null,
   "metadata": {},
   "outputs": [],
   "source": [
    "'''\n",
    "dp를 활용해야 하는 문제\n",
    "\n",
    "최대 갯수 n 무게 100,000 이기 때문에 dp가 아니면 시간제한안에 풀지 못한다.\n",
    "\n",
    "무게에 따라 조합할 수 있는 가장 큰 가치를 dp에 채워 넣어가면 마지막 [n][k] 배열에는 구할 수 있는 최대 가치가 들어가게 된다\n",
    "'''\n",
    "\n",
    "from sys import stdin\n",
    "\n",
    "n, k  = map(int, stdin.readline().split())\n",
    "\n",
    "lst = [list(map(int, stdin.readline().split())) for _ in range(n)]\n",
    "\n",
    "d = [[0]*(k+1) for _ in range(n+1)]\n",
    "\n",
    "\n",
    "for i in range(1,n+1):\n",
    "  for j in range(1,k+1):\n",
    "    w = lst[i-1][0]\n",
    "    v = lst[i-1][1]\n",
    "\n",
    "    #최대 무게 구하기\n",
    "    if w <= j :\n",
    "      d[i][j] = max(d[i-1][j], d[i-1][j-w] + v)\n",
    "    else :\n",
    "      d[i][j] = d[i-1][j]\n",
    "  \n",
    "\n",
    "print(d[-1][-1])\n",
    "\n",
    "\n"
   ]
  }
 ],
 "metadata": {
  "language_info": {
   "name": "python"
  },
  "orig_nbformat": 4
 },
 "nbformat": 4,
 "nbformat_minor": 2
}
