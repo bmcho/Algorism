{
 "cells": [
  {
   "cell_type": "markdown",
   "metadata": {},
   "source": [
    "[A->B](https://www.acmicpc.net/problem/16953)"
   ]
  },
  {
   "cell_type": "code",
   "execution_count": null,
   "metadata": {},
   "outputs": [],
   "source": [
    "a,b = map(int,input().split())\n",
    "\n",
    "\n",
    "q = [(a,1)]\n",
    "\n",
    "answer = -1\n",
    "while q:\n",
    "    n,c = q.pop(0)\n",
    "\n",
    "    if n > b: continue\n",
    "    if n == b:\n",
    "      answer = c\n",
    "      break\n",
    "\n",
    "    q.append((n*2,c+1))\n",
    "    q.append((n*10 + 1,c+1))\n",
    "\n",
    "print(answer)\n"
   ]
  }
 ],
 "metadata": {
  "kernelspec": {
   "display_name": "Python 3.10.5 64-bit",
   "language": "python",
   "name": "python3"
  },
  "language_info": {
   "name": "python",
   "version": "3.10.5"
  },
  "orig_nbformat": 4,
  "vscode": {
   "interpreter": {
    "hash": "a42ccb73e7d9bfdf27e036f1d2b8b681e55fc0743cc5586bc2474d4a60f4b886"
   }
  }
 },
 "nbformat": 4,
 "nbformat_minor": 2
}
