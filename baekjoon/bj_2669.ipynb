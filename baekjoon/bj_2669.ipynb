{
 "cells": [
  {
   "cell_type": "markdown",
   "metadata": {},
   "source": [
    "### [2669번 직사각형 네개의 합집합의 면적 구하기](https://www.acmicpc.net/problem/2669)"
   ]
  },
  {
   "cell_type": "code",
   "execution_count": null,
   "metadata": {},
   "outputs": [],
   "source": [
    "matrix = [ [0]* 101 for _ in range(101)] \n",
    "\n",
    "for _ in range(4):\n",
    "  x1, y1, x2, y2 = map(int,input().split())\n",
    "\n",
    "  for i in range(x1, x2): \n",
    "    for j in range(y1, y2):\n",
    "        matrix[i][j] = 1\n",
    "\n",
    "cnt = 0\n",
    "for r in matrix :\n",
    "  cnt += sum(r)\n",
    "\n",
    "print(cnt)"
   ]
  }
 ],
 "metadata": {
  "language_info": {
   "name": "python"
  },
  "orig_nbformat": 4
 },
 "nbformat": 4,
 "nbformat_minor": 2
}
