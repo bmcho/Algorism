{
 "cells": [
  {
   "cell_type": "markdown",
   "metadata": {},
   "source": [
    "[피보나치 수6](https://www.acmicpc.net/problem/11444)"
   ]
  },
  {
   "cell_type": "code",
   "execution_count": null,
   "metadata": {},
   "outputs": [],
   "source": [
    "from sys import stdin\n",
    "input = stdin.readline\n",
    "_mod = 1000000007\n",
    "n = int(input())\n",
    "\n",
    "base = [[1,1],[1,0]]\n",
    "\n",
    "def multiple(X,Y):\n",
    "    Z = [[0]*2 for _ in range(2)]\n",
    "    for i in range(2):\n",
    "        for j in range(2):\n",
    "            cal = 0\n",
    "            for run in range(2):\n",
    "                cal += X[i][run] * Y[run][j]\n",
    "            Z[i][j] = cal % _mod\n",
    "    return Z\n",
    "            \n",
    "def squared(a, b):\n",
    "    if b == 1:\n",
    "        return a   \n",
    "    tmp = squared(a, b//2)\n",
    "    if b % 2: # 홀수\n",
    "        return multiple(multiple(tmp, tmp), a)\n",
    "    else: # 짝\n",
    "        return multiple(tmp, tmp)\n",
    "        \n",
    "if n < 3:\n",
    "    print(1)\n",
    "else: \n",
    "    print(squared(base, n-1)[0][1])\n",
    "            "
   ]
  }
 ],
 "metadata": {
  "language_info": {
   "name": "python"
  },
  "orig_nbformat": 4
 },
 "nbformat": 4,
 "nbformat_minor": 2
}
