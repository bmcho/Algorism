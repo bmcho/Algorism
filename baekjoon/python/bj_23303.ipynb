{
 "cells": [
  {
   "cell_type": "markdown",
   "metadata": {},
   "source": [
    "### [23303번 이문제는 D2입니다](https://www.acmicpc.net/problem/23303)\n",
    "### 단순 구현문제"
   ]
  },
  {
   "cell_type": "code",
   "execution_count": null,
   "metadata": {},
   "outputs": [],
   "source": [
    "#첫번째 풀이\n",
    "from sys import stdin\n",
    "\n",
    "def solution() :\n",
    "    s = stdin.readline()\n",
    "    s = s.upper()\n",
    "    if 'D2' in s :\n",
    "        return 'D2'\n",
    "    else :\n",
    "        return 'unrated'\n",
    "\n",
    "print(solution())"
   ]
  },
  {
   "cell_type": "code",
   "execution_count": null,
   "metadata": {},
   "outputs": [],
   "source": [
    "#더 짧게\n",
    "from sys import stdin\n",
    "\n",
    "def solution() :\n",
    "    return 'D2' if 'D2' in stdin.readline().upper() else 'unrated'\n",
    "\n",
    "print(solution())"
   ]
  },
  {
   "cell_type": "code",
   "execution_count": null,
   "metadata": {},
   "outputs": [],
   "source": [
    "#좀 더\n",
    "a = lambda : 'D2' if 'D2' in input().upper() else 'unrated'\n",
    "print(a())"
   ]
  }
 ],
 "metadata": {
  "language_info": {
   "name": "python"
  },
  "orig_nbformat": 4
 },
 "nbformat": 4,
 "nbformat_minor": 2
}
