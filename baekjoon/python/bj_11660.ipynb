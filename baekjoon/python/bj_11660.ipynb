{
 "cells": [
  {
   "cell_type": "markdown",
   "metadata": {},
   "source": [
    "[구간 합 구하기5](https://www.acmicpc.net/problem/11660)"
   ]
  },
  {
   "cell_type": "code",
   "execution_count": null,
   "metadata": {},
   "outputs": [],
   "source": [
    "\"\"\" 실패\n",
    "예상한대로 시간초과 DP 밖에 없다\n",
    "\"\"\"\n",
    "from sys import stdin\n",
    "\n",
    "input = stdin.readline\n",
    "\n",
    "n,m = map(int, input().split())\n",
    "\n",
    "grid = [list(map(int, input().split())) for _ in range(n)]\n",
    "coordinates = [list(map(int, input().split())) for _ in range(m)]\n",
    "\n",
    "sum_list = []\n",
    "\n",
    "for x1,y1,x2,y2 in coordinates:\n",
    "    sum_num = 0\n",
    "    for x in range(x1-1, x2):\n",
    "        for y in range(y1-1, y2):\n",
    "            sum_num += grid[x][y]\n",
    "            \n",
    "    sum_list.append(sum_num)\n",
    "\n",
    "for s in sum_list:\n",
    "    print(s)"
   ]
  },
  {
   "cell_type": "code",
   "execution_count": null,
   "metadata": {},
   "outputs": [],
   "source": [
    "\"\"\"\n",
    "DP풀이\n",
    "grid[1][1] ~ grid[x][y]까지의 합\n",
    "dp[x][y] = dp[x-1][y] + dp[x][y-1] - dp[x-1][y-1] + grid[x][y]\n",
    "\n",
    "grid[x1][y1] ~ grid[x2][y2] 까지의 합\n",
    "grid[x1][y1] ~ grid[x2][y2] \n",
    "                = dp[x2][y2] - dp[x1-1][y2] - dp[x2][y1-1] + dp[x1-1][y1-1]\n",
    "\"\"\"\n",
    "from sys import stdin\n",
    "input = stdin.readline\n",
    "\n",
    "n,m = map(int, input().split())\n",
    "\n",
    "grid = [[0] * (n+1)] +[[0]+list(map(int, input().split())) for _ in range(n)]\n",
    "coordinates = [list(map(int, input().split())) for _ in range(m)]\n",
    "dp = [[0]*(n+1) for _ in range(n+1)]\n",
    "\n",
    "for i in range(1,n+1):\n",
    "    for j in range(1,n+1):\n",
    "        dp[i][j] = dp[i-1][j] + dp[i][j-1] - dp[i-1][j-1] + grid[i][j]\n",
    "        \n",
    "sum_list = []\n",
    "for x1,y1,x2,y2 in coordinates:\n",
    "      sum_list.append(str(dp[x2][y2] - dp[x1-1][y2] - dp[x2][y1-1] + dp[x1-1][y1-1]))  \n",
    "\n",
    "print('\\n'.join(sum_list))\n"
   ]
  }
 ],
 "metadata": {
  "kernelspec": {
   "display_name": "Python 3.10.5 64-bit (windows store)",
   "language": "python",
   "name": "python3"
  },
  "language_info": {
   "name": "python",
   "version": "3.10.5"
  },
  "orig_nbformat": 4,
  "vscode": {
   "interpreter": {
    "hash": "3e66c52ac73d53c605744c4f135281b5cf9eeee7b08604677114bdfc3d95a0a1"
   }
  }
 },
 "nbformat": 4,
 "nbformat_minor": 2
}
