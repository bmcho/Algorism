{
 "cells": [
  {
   "cell_type": "markdown",
   "metadata": {},
   "source": [
    "[N과 M (5)](https://www.acmicpc.net/problem/15654)"
   ]
  },
  {
   "cell_type": "code",
   "execution_count": null,
   "metadata": {},
   "outputs": [],
   "source": [
    "from sys import stdin\n",
    "input = stdin.readline\n",
    "\n",
    "n,m = map(int, input().split())\n",
    "num_list = sorted(list(map(int,input().split())))\n",
    "answer = []\n",
    "arr = [0] * m\n",
    "visited = [False] * n\n",
    "\n",
    "def dfs(depth):\n",
    "    if depth == m:\n",
    "        answer.append(' '.join(map(str,arr)))\n",
    "        return\n",
    "    \n",
    "    for i in range(n):\n",
    "        if not visited[i]:\n",
    "            visited[i] = True\n",
    "            arr[depth] = num_list[i]\n",
    "            dfs(depth + 1)\n",
    "            visited[i] = False\n",
    "        \n",
    "dfs(0)\n",
    "print('\\n'.join(answer))"
   ]
  }
 ],
 "metadata": {
  "language_info": {
   "name": "python"
  },
  "orig_nbformat": 4
 },
 "nbformat": 4,
 "nbformat_minor": 2
}
