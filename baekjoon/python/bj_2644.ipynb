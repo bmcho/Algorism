{
 "cells": [
  {
   "cell_type": "markdown",
   "metadata": {},
   "source": [
    "### [2644 촌수계산](https://www.acmicpc.net/problem/2644)"
   ]
  },
  {
   "cell_type": "code",
   "execution_count": null,
   "metadata": {},
   "outputs": [],
   "source": [
    "'''\n",
    "bfs보다 dfs에 익숙하지 않아서 dfs 연습할겸 dfs로 풀어보았다\n",
    "'''\n",
    "n = int(input())\n",
    "x,y = map(int, input().split())\n",
    "m = int(input())\n",
    "\n",
    "visited = [0] * (n+1)\n",
    "\n",
    "def dfs(n):\n",
    "  for i in kinship[n]:\n",
    "    if visited[i] == 0:\n",
    "      visited[i] = visited[n] + 1\n",
    "      dfs(i)\n",
    "\n",
    "#kinship = dict()\n",
    "kinship = [[] for _ in range(n+1)]\n",
    "\n",
    "for _ in range(m):\n",
    "  a,b = map(int, input().split())\n",
    "  \n",
    "  kinship[a].append(b)\n",
    "  kinship[b].append(a)\n",
    "\n",
    "dfs(x)\n",
    "\n",
    "print(visited[y] if visited[y] > 0 else -1)"
   ]
  }
 ],
 "metadata": {
  "language_info": {
   "name": "python"
  },
  "orig_nbformat": 4
 },
 "nbformat": 4,
 "nbformat_minor": 2
}
