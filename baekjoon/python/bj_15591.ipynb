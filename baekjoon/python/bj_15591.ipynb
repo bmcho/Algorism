{
 "cells": [
  {
   "cell_type": "markdown",
   "metadata": {},
   "source": [
    "### [15591번 MooTube (Silver)](https://www.acmicpc.net/problem/15591)"
   ]
  },
  {
   "cell_type": "code",
   "execution_count": null,
   "metadata": {},
   "outputs": [],
   "source": [
    "'''\n",
    "문제의 이해가 어려웠던 문제..\n",
    "'''\n",
    "\n",
    "from sys import stdin\n",
    "\n",
    "def dfs(k,v) :\n",
    "  visited = [0] * (N+1)\n",
    "  visited[v] = 1\n",
    "\n",
    "  q = []\n",
    "  q.extend(usado[v])\n",
    "  while q :\n",
    "    c,u = q.pop()\n",
    "\n",
    "    if not visited[c] and u >= k :\n",
    "      visited[c] = 1\n",
    "      q.extend(usado[c])\n",
    "  \n",
    "  return visited.count(1) - 1\n",
    "\n",
    "N,Q = map(int, stdin.readline().split())\n",
    "\n",
    "usado = dict()\n",
    "for _ in range(N-1):\n",
    "  p,q,r = map(int, stdin.readline().split())\n",
    "\n",
    "  if p in usado.keys():\n",
    "    usado[p].append([q,r])\n",
    "  else :\n",
    "    usado[p] = [[q,r]]\n",
    "  \n",
    "  if q in usado.keys():\n",
    "    usado[q].append([p,r])\n",
    "  else :\n",
    "    usado[q] = [[p,r]]\n",
    "\n",
    "result = []\n",
    "\n",
    "for _ in range(Q):\n",
    "  k,v = map(int, stdin.readline().split())\n",
    "  result.append(dfs(k,v))\n",
    "\n",
    "for i in result:\n",
    "  print(i)\n",
    "  "
   ]
  }
 ],
 "metadata": {
  "interpreter": {
   "hash": "dcacb0086e9a4f4eabd41c33bf4faac5ea0a3337ed3f5eff0680afa930572c04"
  },
  "kernelspec": {
   "display_name": "Python 3.9.6 64-bit",
   "language": "python",
   "name": "python3"
  },
  "language_info": {
   "name": "python",
   "version": "3.9.6"
  },
  "orig_nbformat": 4
 },
 "nbformat": 4,
 "nbformat_minor": 2
}
