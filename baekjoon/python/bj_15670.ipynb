{
 "cells": [
  {
   "cell_type": "markdown",
   "metadata": {},
   "source": [
    "[N과 M 2](https://www.acmicpc.net/problem/15650)"
   ]
  },
  {
   "cell_type": "code",
   "execution_count": null,
   "metadata": {},
   "outputs": [],
   "source": [
    "from sys import stdin\n",
    "\n",
    "input = stdin.readline\n",
    "N,M = map(int, input().split())\n",
    "answer = []\n",
    "arr = []\n",
    "\n",
    "def dfs(depth, start):\n",
    "    if depth == M:\n",
    "        answer.append(' '.join(map(str, arr)))\n",
    "        return\n",
    "\n",
    "    for i in range(start, N+1):\n",
    "        if i not in arr:\n",
    "            arr.append(i)\n",
    "            dfs(depth+1, i+1)\n",
    "            arr.pop()\n",
    "\n",
    "dfs(0,1)\n",
    "print('\\n'.join(answer))\n"
   ]
  }
 ],
 "metadata": {
  "language_info": {
   "name": "python"
  },
  "orig_nbformat": 4
 },
 "nbformat": 4,
 "nbformat_minor": 2
}
