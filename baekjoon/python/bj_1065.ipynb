{
 "cells": [
  {
   "cell_type": "markdown",
   "metadata": {},
   "source": [
    "### [1065번 한수](https://www.acmicpc.net/problem/1065)\n",
    "\n",
    "### 1~99 는 모두 한수\n",
    "### 1000보다 작기 때문에 100의 자리 - 10의자리 == 10의자리 - 1의자리 면 한수"
   ]
  },
  {
   "cell_type": "code",
   "execution_count": null,
   "metadata": {},
   "outputs": [],
   "source": [
    "n = int(input())\n",
    "\n",
    "c = 99\n",
    "\n",
    "for i in range(100, n+1) :\n",
    "    n1 = i//100\n",
    "    n2 = (i%100)//10\n",
    "    n3 = (i%100)%10\n",
    "    if (n1 - n2) == (n2 - n3) :\n",
    "        c += 1\n",
    "\n",
    "print(c)"
   ]
  }
 ],
 "metadata": {
  "language_info": {
   "name": "python"
  },
  "orig_nbformat": 4
 },
 "nbformat": 4,
 "nbformat_minor": 2
}
