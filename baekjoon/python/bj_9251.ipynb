{
 "cells": [
  {
   "cell_type": "markdown",
   "metadata": {},
   "source": [
    "[LCS](https://www.acmicpc.net/problem/9251)"
   ]
  },
  {
   "cell_type": "code",
   "execution_count": null,
   "metadata": {},
   "outputs": [],
   "source": [
    "import sys\n",
    "\n",
    "input = sys.stdin.readline\n",
    "\n",
    "w1,w2 = input().strip(),input().strip()\n",
    "len_w1, len_w2 = len(w1), len(w2)\n",
    "\n",
    "graph = [[0] * (len_w2+1) for _ in range(len_w1+1)]\n",
    "\n",
    "for i in range(1,len_w1+1):\n",
    "    for j in range(1,len_w2+1):\n",
    "        if w1[i-1] == w2[j-1]:\n",
    "            graph[i][j] = graph[i-1][j-1] + 1\n",
    "        else :\n",
    "            graph[i][j] = max(graph[i][j-1], graph[i-1][j])\n",
    "\n",
    "print(graph[-1][-1])"
   ]
  }
 ],
 "metadata": {
  "language_info": {
   "name": "python"
  },
  "orig_nbformat": 4
 },
 "nbformat": 4,
 "nbformat_minor": 2
}
