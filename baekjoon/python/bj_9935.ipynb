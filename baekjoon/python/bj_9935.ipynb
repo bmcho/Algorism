{
 "cells": [
  {
   "cell_type": "markdown",
   "metadata": {},
   "source": [
    "[문자열 폭발](https://www.acmicpc.net/problem/9935)"
   ]
  },
  {
   "cell_type": "code",
   "execution_count": null,
   "metadata": {},
   "outputs": [],
   "source": [
    "from sys import stdin\n",
    "\n",
    "input = stdin.readline\n",
    "\n",
    "standard_str = input().strip()\n",
    "boom_str = input().strip()\n",
    "\n",
    "boom_last_char = boom_str[-1]\n",
    "boom_str_len = len(boom_str)\n",
    "\n",
    "str_stack = []\n",
    "\n",
    "for char in standard_str:\n",
    "    str_stack.append(char)\n",
    "    if boom_last_char == char and ''.join(str_stack[-boom_str_len:]) == boom_str:\n",
    "        del str_stack[-boom_str_len:]\n",
    "    \n",
    "if not str_stack:\n",
    "    print('FRULA')\n",
    "else :\n",
    "    print(''.join(str_stack))\n"
   ]
  }
 ],
 "metadata": {
  "language_info": {
   "name": "python"
  },
  "orig_nbformat": 4
 },
 "nbformat": 4,
 "nbformat_minor": 2
}
