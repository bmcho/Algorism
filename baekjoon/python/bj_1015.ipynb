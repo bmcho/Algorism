{
 "cells": [
  {
   "cell_type": "markdown",
   "metadata": {},
   "source": [
    "### [1015번 수열 정리](https://www.acmicpc.net/problem/1015)"
   ]
  },
  {
   "cell_type": "code",
   "execution_count": null,
   "metadata": {},
   "outputs": [],
   "source": [
    "from sys import stdin\n",
    "\n",
    "n = int(stdin.readline())\n",
    "a = list(map(int, stdin.readline().split()))\n",
    "\n",
    "result = [-1] * n\n",
    "\n",
    "for i in range(len(a)) :\n",
    "    minNum = min(a)\n",
    "    idx = a.index(minNum)\n",
    "    result[idx] = i\n",
    "    a[idx] = 9999\n",
    "\n",
    "\n",
    "print(*result)"
   ]
  }
 ],
 "metadata": {
  "language_info": {
   "name": "python"
  },
  "orig_nbformat": 4
 },
 "nbformat": 4,
 "nbformat_minor": 2
}
