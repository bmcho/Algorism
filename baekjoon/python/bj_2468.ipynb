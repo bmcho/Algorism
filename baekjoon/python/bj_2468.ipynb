{
 "cells": [
  {
   "cell_type": "markdown",
   "metadata": {},
   "source": [
    "### [2468 안전 영역](https://www.acmicpc.net/problem/2468)"
   ]
  },
  {
   "cell_type": "code",
   "execution_count": null,
   "metadata": {},
   "outputs": [],
   "source": [
    "'''\n",
    "처음에 계속 메모리 초과가 나서 매우 난감했다.\n",
    "\n",
    "원인은 bfs 스코프안 sink[x][y]=1 부분이었다.\n",
    "이전에는\n",
    "\n",
    "queue 에서 pop을 한 뒤 sink[x][y] = 1 해 주었다 이경우 큰 문제점이 있었다.\n",
    "만약 sink[2][2]를 확인을 했다고 하더라도 pop 하기 전까지는 다른 node들은 sink[2][2]를 확인했는지 알 수가 없었다.\n",
    "그래서 N의 크기가 커지면 커질수록 queue에 저장되는 [x][y]값이 node마다 생기고 있었다.\n",
    "'''\n",
    "\n",
    "import sys\n",
    "from collections import deque\n",
    "\n",
    "input = sys.stdin.readline\n",
    "\n",
    "dx = [1, -1, 0, 0]\n",
    "dy = [0, 0, -1, 1]\n",
    "\n",
    "def bfs(x,y, h):\n",
    "    q = deque()\n",
    "    q.append((x,y))\n",
    "    sink[x][y] = 1\n",
    "\n",
    "    while q :\n",
    "        x,y = q.popleft()\n",
    "\n",
    "        for k in range(4):\n",
    "            nx = x + dx[k]\n",
    "            ny = y + dy[k]\n",
    "\n",
    "            if 0 <= nx < N and 0 <= ny < N:\n",
    "                if sink[nx][ny] == 0 and matrix[nx][ny] > h:\n",
    "                    sink[nx][ny] = 1\n",
    "                    q.append((nx,ny))\n",
    "\n",
    "N = int(input())\n",
    "matrix = [list(map(int,input().split())) for _ in range(N)]\n",
    "h_max = max(map(max, matrix)) \n",
    "result = 0\n",
    "\n",
    "for h_sink in range(h_max+1):\n",
    "    sink = [[0] * N for _ in range(N)]\n",
    "    cnt = 0\n",
    "    for i in range(N):\n",
    "        for j in range(N):\n",
    "            if matrix[i][j] > h_sink and sink[i][j] == 0 :\n",
    "                cnt += 1\n",
    "                bfs(i,j,h_sink)\n",
    "\n",
    "        result = max(result,cnt)\n",
    "\n",
    "print(result)\n"
   ]
  }
 ],
 "metadata": {
  "interpreter": {
   "hash": "1614970ef53f4adc88a43c1b0d018fcb267668e8e915574a745cf4979ce27b89"
  },
  "kernelspec": {
   "display_name": "Python 3.10.4 64-bit (windows store)",
   "language": "python",
   "name": "python3"
  },
  "language_info": {
   "name": "python",
   "version": "3.10.4"
  },
  "orig_nbformat": 4
 },
 "nbformat": 4,
 "nbformat_minor": 2
}
