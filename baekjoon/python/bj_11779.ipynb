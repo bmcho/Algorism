{
 "cells": [
  {
   "cell_type": "markdown",
   "metadata": {},
   "source": [
    "[최소비용 구하기2](https://www.acmicpc.net/problem/11779)"
   ]
  },
  {
   "cell_type": "code",
   "execution_count": null,
   "metadata": {},
   "outputs": [],
   "source": [
    "#다익스트라 최소비용이기 때문에 최소힙 다익스트라\n",
    "#양방향은 필요 없음\n",
    "from collections import defaultdict\n",
    "from copy import deepcopy\n",
    "import heapq\n",
    "\n",
    "INF = float('inf')\n",
    "\n",
    "n = int(input())\n",
    "m = int(input())\n",
    "\n",
    "bus_line = defaultdict(list)\n",
    "bus_cost = [INF] * (n+1)\n",
    "bus_history = [list] * (n+1)\n",
    "\n",
    "for _ in range(m):\n",
    "    f_town, t_town, cost = map(int, input().split())\n",
    "    bus_line[f_town].append((t_town, cost))\n",
    "    \n",
    "start, end = map(int, input().split())\n",
    "    \n",
    "def dijkstra(start):\n",
    "    q = []\n",
    "    #비용, 현재 마을, 거쳐온 마을\n",
    "    heapq.heappush(q, (0,start, [start]))\n",
    "    while q:\n",
    "        cost, now, history = heapq.heappop(q)\n",
    "        if bus_cost[now] < cost:\n",
    "            continue\n",
    "        \n",
    "        for i in bus_line[now]:\n",
    "            next_cost = cost + i[1]\n",
    "            next_history = deepcopy(history)\n",
    "            next_history.append(i[0])\n",
    "            if next_cost < bus_cost[i[0]]:\n",
    "                bus_cost[i[0]] = next_cost\n",
    "                bus_history[i[0]] = next_history\n",
    "                heapq.heappush(q, (next_cost, i[0], next_history))\n",
    "                \n",
    "dijkstra(start)\n",
    "\n",
    "print(bus_cost[end])\n",
    "print(len(bus_history[end]))\n",
    "print(*bus_history[end])\n"
   ]
  }
 ],
 "metadata": {
  "language_info": {
   "name": "python"
  },
  "orig_nbformat": 4
 },
 "nbformat": 4,
 "nbformat_minor": 2
}
