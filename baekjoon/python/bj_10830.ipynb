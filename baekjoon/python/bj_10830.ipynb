{
 "cells": [
  {
   "cell_type": "markdown",
   "metadata": {},
   "source": [
    "[행렬 제곱](https://www.acmicpc.net/problem/10830)"
   ]
  },
  {
   "cell_type": "markdown",
   "metadata": {},
   "source": [
    "이전에 피보나치를 행렬의 제곱으로 구하는 문제를 도전했다가 포기했었다.<br>\n",
    "행렬제곱에 대한 이해가 없었기 때문이라 생각했는데 <br>\n",
    "행렬제곱의 가장 기초적인 문제가 나와서 공부했다. <br>\n",
    "이와 더불어 가장 부족한다고 느끼는 분할 정복법에 대해 이해도가 올라간 느낌이다."
   ]
  },
  {
   "cell_type": "code",
   "execution_count": null,
   "metadata": {},
   "outputs": [],
   "source": []
  },
  {
   "cell_type": "code",
   "execution_count": null,
   "metadata": {},
   "outputs": [],
   "source": [
    "from sys import stdin\n",
    "input = stdin.readline\n",
    "\n",
    "n, b = map(int, input().split())\n",
    "matrix = [list(map(lambda x: int(x) % 1000, input().split())) for _ in range(n)]\n",
    "\n",
    "def multiple(X, Y):\n",
    "    n = len(X)\n",
    "    Z = [[0]*n for _ in range(n)] \n",
    "    for row in range(n):\n",
    "        for col in range(n):\n",
    "            cal_result = 0\n",
    "            for run in range(n):\n",
    "                cal_result += X[row][run] * Y[run][col]\n",
    "            \n",
    "            Z[row][col] = cal_result % 1000\n",
    "    \n",
    "    return Z \n",
    "            \n",
    "def squared(matrix, b):\n",
    "    if b == 1:\n",
    "        return matrix\n",
    "    \n",
    "    Z = squared(matrix, b//2)\n",
    "    if b % 2: # 홀수\n",
    "        return multiple(multiple(Z, Z), matrix)\n",
    "    else: # 쯕수\n",
    "        return multiple(Z, Z)\n",
    "    \n",
    "result = squared(matrix, b)\n",
    "\n",
    "for r in result:\n",
    "    print(*r)\n",
    "                \n",
    "                \n",
    "                \n",
    "        \n",
    "        \n",
    "\n",
    "\n",
    "       \n",
    "    "
   ]
  }
 ],
 "metadata": {
  "kernelspec": {
   "display_name": "Python 3.10.5 64-bit (windows store)",
   "language": "python",
   "name": "python3"
  },
  "language_info": {
   "name": "python",
   "version": "3.10.5"
  },
  "orig_nbformat": 4,
  "vscode": {
   "interpreter": {
    "hash": "3e66c52ac73d53c605744c4f135281b5cf9eeee7b08604677114bdfc3d95a0a1"
   }
  }
 },
 "nbformat": 4,
 "nbformat_minor": 2
}
