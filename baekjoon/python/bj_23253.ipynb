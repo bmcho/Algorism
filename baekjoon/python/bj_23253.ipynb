{
 "cells": [
  {
   "cell_type": "markdown",
   "metadata": {},
   "source": [
    "### [23253번 자료구조는 정말 최고야](https://www.acmicpc.net/problem/23253)\n",
    "### 스택을 이용할수있으니나 최대 m * n (0 < n, m <= 200,000) 이므로 시간초과 유의하며 풀것"
   ]
  },
  {
   "cell_type": "code",
   "execution_count": null,
   "metadata": {},
   "outputs": [],
   "source": [
    "'''\n",
    "1차시도 시간초과\n",
    "최대 n * m (20만 * 20만)라.. \n",
    "'''\n",
    "def solution():\n",
    "\n",
    "    n, m = map(int, input().split())\n",
    "    stackList = []\n",
    "    storeList = []\n",
    "\n",
    "    for _ in range(m) :\n",
    "        t = int(input())\n",
    "        t_list = list(map(int,input().split()))\n",
    "        stackList.append(t_list)\n",
    "        storeList.append(t_list[-1])\n",
    "\n",
    "    run = 1\n",
    "    while run != n :\n",
    "        if run in storeList :\n",
    "            idx = storeList.index(run)\n",
    "            stackList[idx].pop()\n",
    "            if len(stackList[idx]) != 0 :\n",
    "                storeList[idx] = stackList[idx][-1]\n",
    "            run += 1\n",
    "        else :\n",
    "            return \"No\"    \n",
    "    \n",
    "    return \"Yes\"\n",
    "\n",
    "print(solution())\n"
   ]
  },
  {
   "cell_type": "code",
   "execution_count": null,
   "metadata": {},
   "outputs": [],
   "source": [
    "\n",
    "'''\n",
    "'시간초과'\n",
    "책의 번호를 순서대로 나열했을때 내림차순으로 정렬이 되어있지 않다면 'No' 되어있다면 'Yes' 이기에 sorted 된 것과 기존 리스트를 비교하여 가능 여부를 확인\n",
    "python의 sort 시간복잡도는 O(N Log N)이기에 가능할 줄 알았으나 ..실패\n",
    "'''\n",
    "def solution():\n",
    "\n",
    "    n, m = map(int, input().split())\n",
    "    stackList = []\n",
    "\n",
    "    for _ in range(m) :\n",
    "        input()\n",
    "        t_list = list(map(int,input().split()))\n",
    "        stackList.append(t_list)\n",
    "\n",
    "    for l in stackList :\n",
    "        if sorted(l, reverse=True) != l :\n",
    "            return 'No'\n",
    "\n",
    "\n",
    "    return 'Yes'\n",
    "\n",
    "print(solution())\n"
   ]
  },
  {
   "cell_type": "code",
   "execution_count": null,
   "metadata": {},
   "outputs": [],
   "source": [
    "'''\n",
    "백준에서는 input을 쓰지말자..\n",
    "input vs stdin.readline > https://buyandpray.tistory.com/7\n",
    "위 코드에서 쓸때없이 for문과 arr를 가지고 있기때문에 코드를 좀더 간략화 시켰다\n",
    "계속 시간초과 났던 이유가 input때문이다...\n",
    "'''\n",
    "\n",
    "from sys import stdin\n",
    "\n",
    "def solution() :\n",
    "    n, m = map(int, input().split())\n",
    "    for _ in range(m) :\n",
    "        stdin.readline()\n",
    "        t_list = list(map(int,stdin.readline().split()))\n",
    "        if sorted(t_list, reverse=True) != t_list :\n",
    "            return 'No'\n",
    "    return 'Yes'\n",
    "\n",
    "print(solution())"
   ]
  }
 ],
 "metadata": {
  "language_info": {
   "name": "python"
  },
  "orig_nbformat": 4
 },
 "nbformat": 4,
 "nbformat_minor": 2
}
