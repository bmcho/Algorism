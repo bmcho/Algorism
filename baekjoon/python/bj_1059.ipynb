{
 "cells": [
  {
   "cell_type": "markdown",
   "metadata": {},
   "source": [
    "### [1059번 좋은 구간](https://www.acmicpc.net/problem/1059)\n",
    "\n",
    "#### 단순 구현\n",
    "##### 좋은 구간의 규칙을 알면 쉽게 풀수 있는 문제 \n",
    "##### (n - s) * (e - n + 1) + (e - n)의 식으로 좋은 구간의 개수를 구할 수 있음\n",
    "##### (n이 포함된 반복되는 구간) * (반복되는 구간의 개수) + (n ~ e까지의 개수)\n",
    "ex)　4 </br>\n",
    "　　1 7 14 10 </br>\n",
    "　　3 </br>\n",
    "\n",
    "좋은 구간의 개수 </br>\n",
    "[2, 3], [2, 4], [2, 5], [2, 6], [3, 4], [3, 5], [3, 6] 총 7개 </br>\n",
    "s = 2, e = 6, n = 3 </br>\n",
    "(3 - 2) * (6 - 3 + 1) + (6 - 3) </br>\n",
    "(1번 반복) * (4개의 경우의수가) + ([3, 4], [3, 5], [3, 6])"
   ]
  },
  {
   "cell_type": "code",
   "execution_count": null,
   "metadata": {},
   "outputs": [],
   "source": [
    "def solution():\n",
    "\n",
    "    l = int(input())\n",
    "    s = list(map(int, input().split()))\n",
    "    n = int(input())\n",
    "\n",
    "    start = 0\n",
    "    end = 0\n",
    "    result = 0\n",
    "\n",
    "    if n in s :\n",
    "        return result\n",
    "\n",
    "    '''\n",
    "    (n - s) * (e - n + 1) + (e - n)\n",
    "    '''\n",
    "    s.sort()\n",
    "    s = [0] + s\n",
    "    for i in range(len(s)-1) :\n",
    "        if s[i] <= n < s[i+1] :\n",
    "            start = s[i] + 1\n",
    "            end = s[i+1] - 1\n",
    "            break\n",
    "\n",
    "    return ((n - start) * (end - n + 1) + (end - n))\n",
    "\n",
    "print(solution())"
   ]
  }
 ],
 "metadata": {
  "interpreter": {
   "hash": "dcacb0086e9a4f4eabd41c33bf4faac5ea0a3337ed3f5eff0680afa930572c04"
  },
  "kernelspec": {
   "display_name": "Python 3.9.6 64-bit",
   "name": "python3"
  },
  "language_info": {
   "name": "python",
   "version": "3.9.6"
  },
  "orig_nbformat": 4
 },
 "nbformat": 4,
 "nbformat_minor": 2
}
