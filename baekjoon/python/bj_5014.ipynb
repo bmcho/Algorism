{
 "cells": [
  {
   "cell_type": "markdown",
   "metadata": {},
   "source": [
    "### [5014 스타트링크](https://www.acmicpc.net/problem/5014)"
   ]
  },
  {
   "cell_type": "code",
   "execution_count": null,
   "metadata": {},
   "outputs": [],
   "source": [
    "'''\n",
    "실패\n",
    "'''\n",
    "f,s,g,u,d = map(int, input().split())\n",
    "\n",
    "visited = [0] * (f+1)\n",
    "q = []\n",
    "\n",
    "q.append(s)\n",
    "\n",
    "while q :\n",
    "    x = q.pop(0)\n",
    "\n",
    "    nx1 = x + u\n",
    "    nx2 = x - d\n",
    "\n",
    "    if not (nx1 < 1 or nx1 > f) :\n",
    "        if visited[nx1] == 0:\n",
    "            visited[nx1] = visited[x] + 1\n",
    "            q.append(nx1)\n",
    "\n",
    "    if not (nx2 < 1 or nx2 > f) :\n",
    "        if visited[nx2] == 0:\n",
    "            visited[nx2] = visited[x] + 1\n",
    "            q.append(nx2)\n",
    "            \n",
    "if visited[g] == 0 :\n",
    "    print(\"use the stairs\")\n",
    "else :\n",
    "    print(visited[g])"
   ]
  },
  {
   "cell_type": "code",
   "execution_count": null,
   "metadata": {},
   "outputs": [],
   "source": [
    "'''\n",
    "의심가는 구간이 있었으나 일단 그냥 시도를 해보니 중간에 실패가 되어버렸었다.\n",
    "visited[s]를 0으로 두었더니 역시나.. 에러가 난다\n",
    "visited[s]를 1로 시작하되 출력시 -1 을 하도록 하니 성공하였다.\n",
    "'''\n",
    "f,s,g,u,d = map(int, input().split())\n",
    "\n",
    "visited = [0] * (f+1)\n",
    "q = []\n",
    "\n",
    "\n",
    "visited[s] = 1\n",
    "q.append(s)\n",
    "while q :\n",
    "    x = q.pop(0)\n",
    "\n",
    "    nx1 = x + u\n",
    "    nx2 = x - d\n",
    "\n",
    "    if not (nx1 < 1 or nx1 > f) :\n",
    "        if visited[nx1] == 0:\n",
    "            visited[nx1] = visited[x] + 1\n",
    "            q.append(nx1)\n",
    "\n",
    "    if not (nx2 < 1 or nx2 > f) :\n",
    "        if visited[nx2] == 0:\n",
    "            visited[nx2] = visited[x] + 1\n",
    "            q.append(nx2)\n",
    "    \n",
    "print(\"use the stairs\" if visited[g] == 0 else visited[g]-1)"
   ]
  }
 ],
 "metadata": {
  "interpreter": {
   "hash": "dcacb0086e9a4f4eabd41c33bf4faac5ea0a3337ed3f5eff0680afa930572c04"
  },
  "kernelspec": {
   "display_name": "Python 3.9.6 64-bit",
   "language": "python",
   "name": "python3"
  },
  "language_info": {
   "name": "python",
   "version": "3.9.6"
  },
  "orig_nbformat": 4
 },
 "nbformat": 4,
 "nbformat_minor": 2
}
