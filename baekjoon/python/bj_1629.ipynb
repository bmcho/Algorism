{
 "cells": [
  {
   "cell_type": "markdown",
   "metadata": {},
   "source": [
    "[곱셈](https://www.acmicpc.net/problem/1629)"
   ]
  },
  {
   "cell_type": "code",
   "execution_count": null,
   "metadata": {},
   "outputs": [],
   "source": [
    "from sys import stdin\n",
    "input = stdin.readline\n",
    "\n",
    "a,b,c = map(int, input().split())\n",
    "\n",
    "\n",
    "def squared(a,b, c):\n",
    "    if b == 1:\n",
    "        return a%c\n",
    "    \n",
    "    t = squared(a,b//2,c)\n",
    "    \n",
    "    if b % 2 :\n",
    "        return t**2*a%c\n",
    "    else:\n",
    "        return t**2%c\n",
    "\n",
    "print(squared(a,b,c))"
   ]
  }
 ],
 "metadata": {
  "kernelspec": {
   "display_name": "Python 3.10.5 64-bit (windows store)",
   "language": "python",
   "name": "python3"
  },
  "language_info": {
   "name": "python",
   "version": "3.10.5"
  },
  "orig_nbformat": 4,
  "vscode": {
   "interpreter": {
    "hash": "3e66c52ac73d53c605744c4f135281b5cf9eeee7b08604677114bdfc3d95a0a1"
   }
  }
 },
 "nbformat": 4,
 "nbformat_minor": 2
}
