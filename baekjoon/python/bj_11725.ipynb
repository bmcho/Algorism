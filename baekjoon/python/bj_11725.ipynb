{
 "cells": [
  {
   "cell_type": "markdown",
   "metadata": {},
   "source": [
    "[트리의 부모찾기](https://www.acmicpc.net/problem/11725)"
   ]
  },
  {
   "cell_type": "code",
   "execution_count": null,
   "metadata": {},
   "outputs": [],
   "source": [
    "\"\"\"\n",
    "입력은 stdin을 쓰도록 하자.. 입력 받는 인자가 많든 적든...\n",
    "속도 차이가 너무 많이 난다\n",
    "\n",
    "노드의 개수가 100,000개 이기 떄문에 bfs로 풀면 \n",
    "bigO는 100,000 + 각 list 수 인데.. 시간초과가 발생해서 한참을 생각했다.\n",
    "입력 차이였다.\n",
    "\n",
    "stdin은 버퍼를 받는거기때문에 훨씬 빠르다.\n",
    "\"\"\"\n",
    "from sys import stdin\n",
    "from collections import defaultdict\n",
    "from collections import deque\n",
    "\n",
    "input = stdin.readline\n",
    "\n",
    "n = int(input())\n",
    "\n",
    "tree_node = defaultdict(list)\n",
    "root_node = [0] * (n+1)\n",
    "\n",
    "for _ in range(n-1):\n",
    "    a, b = map(int, input().split())\n",
    "    \n",
    "    tree_node[a].append(b)\n",
    "    tree_node[b].append(a)\n",
    "\n",
    "q = deque()\n",
    "q.append(1)\n",
    "    \n",
    "while q:\n",
    "    now = q.popleft()\n",
    "    \n",
    "    for i in tree_node[now]:\n",
    "        if root_node[i] == 0:\n",
    "            root_node[i] = now\n",
    "            q.append(i)\n",
    "\n",
    "for i in root_node[2:]:\n",
    "    print(i)\n"
   ]
  }
 ],
 "metadata": {
  "kernelspec": {
   "display_name": "Python 3.10.6 64-bit (windows store)",
   "language": "python",
   "name": "python3"
  },
  "language_info": {
   "name": "python",
   "version": "3.10.6"
  },
  "orig_nbformat": 4,
  "vscode": {
   "interpreter": {
    "hash": "3e66c52ac73d53c605744c4f135281b5cf9eeee7b08604677114bdfc3d95a0a1"
   }
  }
 },
 "nbformat": 4,
 "nbformat_minor": 2
}
