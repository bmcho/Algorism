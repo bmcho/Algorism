{
 "cells": [
  {
   "cell_type": "markdown",
   "metadata": {},
   "source": [
    "[RGB거리](https://www.acmicpc.net/problem/1149)"
   ]
  },
  {
   "cell_type": "code",
   "execution_count": null,
   "metadata": {},
   "outputs": [],
   "source": [
    "import sys\n",
    "n = int(sys.stdin.readline())\n",
    "rgb = []\n",
    "\n",
    "for _ in range(n):\n",
    "    rgb.append(list(map(int, sys.stdin.readline().split())))\n",
    "\n",
    "for i in range(1,n):\n",
    "    rgb[i][0] = min(rgb[i-1][1], rgb[i-1][2]) + rgb[i][0]\n",
    "    rgb[i][1] = min(rgb[i-1][0], rgb[i-1][2]) + rgb[i][1]\n",
    "    rgb[i][2] = min(rgb[i-1][0], rgb[i-1][1]) + rgb[i][2]\n",
    "\n",
    "print(min(rgb[-1]))"
   ]
  }
 ],
 "metadata": {
  "language_info": {
   "name": "python"
  },
  "orig_nbformat": 4
 },
 "nbformat": 4,
 "nbformat_minor": 2
}
