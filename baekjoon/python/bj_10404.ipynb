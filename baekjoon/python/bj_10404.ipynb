{
 "cells": [
  {
   "cell_type": "markdown",
   "metadata": {},
   "source": [
    "[플로이드](https://www.acmicpc.net/problem/11404)"
   ]
  },
  {
   "cell_type": "code",
   "execution_count": null,
   "metadata": {},
   "outputs": [],
   "source": [
    "\"\"\"\n",
    "최소비용 다잌스트라 기본 문제\n",
    "\"\"\"\n",
    "import heapq\n",
    "from collections import defaultdict\n",
    "from sys import stdin\n",
    "input = stdin.readline\n",
    "\n",
    "_inf = float('inf')\n",
    "n = int(input())\n",
    "m = int(input())\n",
    "\n",
    "town_dict = defaultdict(list)\n",
    "\n",
    "def dikstra(start):\n",
    "    global town_dict\n",
    "    town_cost = [_inf] * (n+1)\n",
    "    q = []\n",
    "    heapq.heappush(q,(0,start))\n",
    "    town_cost[start] = 0\n",
    "    \n",
    "    while q:\n",
    "        cost, now = heapq.heappop(q)\n",
    "        \n",
    "        if town_cost[now] < cost:\n",
    "            continue\n",
    "        \n",
    "        for i in town_dict[now]:\n",
    "            next_cost = town_cost[now] + i[1]\n",
    "            \n",
    "            if next_cost < town_cost[i[0]]:\n",
    "                town_cost[i[0]] = next_cost\n",
    "                \n",
    "                heapq.heappush(q,(next_cost,i[0]))\n",
    "    \n",
    "    return ' '.join(map(str, town_cost[1:])).replace('inf','0')\n",
    "\n",
    "for _ in range(m):\n",
    "    f, t, c = map(int, input().split())\n",
    "    town_dict[f].append((t,c))\n",
    "    \n",
    "answer = []\n",
    "for i in range(1, n+1):\n",
    "    answer.append(dikstra(i))\n",
    "    \n",
    "print('\\n'.join(answer))\n"
   ]
  }
 ],
 "metadata": {
  "language_info": {
   "name": "python"
  },
  "orig_nbformat": 4
 },
 "nbformat": 4,
 "nbformat_minor": 2
}
