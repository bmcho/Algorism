{
 "cells": [
  {
   "cell_type": "markdown",
   "metadata": {},
   "source": [
    "[숨바꼭질3](https://www.acmicpc.net/problem/13549)"
   ]
  },
  {
   "cell_type": "code",
   "execution_count": null,
   "metadata": {},
   "outputs": [],
   "source": [
    "\"\"\"\n",
    "가장 빠른시간을 구하는 문제이기 때문에 순간이동에 대해 우선순위가 정해져야 한다.\n",
    "그렇기에 순간이동시에는 appendleft를 해준다.\n",
    "\"\"\"\n",
    "\n",
    "from collections import deque\n",
    "\n",
    "n,k = map(int, input().split())\n",
    "MAX = 100001\n",
    "\n",
    "visited = [0] * MAX\n",
    "dist = [-1] * MAX\n",
    "\n",
    "q = deque()\n",
    "q.append((n,0))\n",
    "\n",
    "visited[n] = 1\n",
    "dist[n] = 0\n",
    "\n",
    "answer = 0\n",
    "while q:\n",
    "    loc,time = q.popleft()\n",
    "\n",
    "    if loc == k:\n",
    "        answer = time\n",
    "        break\n",
    "\n",
    "    if loc * 2 < MAX and visited[loc*2] == 0: \n",
    "        visited[loc*2] = 1\n",
    "        q.appendleft((loc*2,time))\n",
    "\n",
    "    if loc + 1 < MAX and visited[loc+1] == 0: \n",
    "        visited[loc+1] = 1\n",
    "        q.append((loc+1, time+1))\n",
    "\n",
    "    if loc - 1 >= 0 and visited[loc-1] == 0: \n",
    "        visited[loc-1] = 1\n",
    "        q.append((loc-1,time+1))\n",
    "\n",
    "print(answer)\n"
   ]
  }
 ],
 "metadata": {
  "kernelspec": {
   "display_name": "Python 3.10.5 64-bit",
   "language": "python",
   "name": "python3"
  },
  "language_info": {
   "name": "python",
   "version": "3.10.5"
  },
  "orig_nbformat": 4,
  "vscode": {
   "interpreter": {
    "hash": "a42ccb73e7d9bfdf27e036f1d2b8b681e55fc0743cc5586bc2474d4a60f4b886"
   }
  }
 },
 "nbformat": 4,
 "nbformat_minor": 2
}
