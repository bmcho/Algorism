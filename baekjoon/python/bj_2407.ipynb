{
 "cells": [
  {
   "cell_type": "code",
   "execution_count": null,
   "metadata": {},
   "outputs": [],
   "source": [
    "import sys\n",
    "\n",
    "# nCm = n! / (m! * (n-m)!) \n",
    "\n",
    "fac_dp = [1, 1, 2]\n",
    "n, m = map(int, sys.stdin.readline().split())\n",
    "\n",
    "for i in range(3, n + 1):\n",
    "\tfac_dp.append(fac_dp[i - 1] * i)\n",
    "\n",
    "print(fac_dp[n] // (fac_dp[m] * fac_dp[n - m]))\n"
   ]
  }
 ],
 "metadata": {
  "kernelspec": {
   "display_name": "Python 3.10.5 64-bit",
   "language": "python",
   "name": "python3"
  },
  "language_info": {
   "name": "python",
   "version": "3.10.5"
  },
  "orig_nbformat": 4,
  "vscode": {
   "interpreter": {
    "hash": "a42ccb73e7d9bfdf27e036f1d2b8b681e55fc0743cc5586bc2474d4a60f4b886"
   }
  }
 },
 "nbformat": 4,
 "nbformat_minor": 2
}
