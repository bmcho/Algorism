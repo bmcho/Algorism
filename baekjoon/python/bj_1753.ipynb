{
 "cells": [
  {
   "cell_type": "markdown",
   "metadata": {},
   "source": [
    "[최단경로](https://www.acmicpc.net/problem/1753)"
   ]
  },
  {
   "cell_type": "code",
   "execution_count": null,
   "metadata": {},
   "outputs": [],
   "source": [
    "import heapq\n",
    "from collections import defaultdict\n",
    "from sys import stdin\n",
    "\n",
    "input = stdin.readline\n",
    "\n",
    "_INF = float('inf')\n",
    "V,E = map(int, input().split())\n",
    "s = int(input())\n",
    "\n",
    "graph = defaultdict(list)\n",
    "distance = [_INF] * (V+1)\n",
    "\n",
    "for _ in range(E):\n",
    "    u,v,w = map(int, input().split())\n",
    "    graph[u].append((v,w))\n",
    "\n",
    "q = []\n",
    "heapq.heappush(q, (0,s))\n",
    "distance[s] = 0\n",
    "\n",
    "while q:\n",
    "    dist, now = heapq.heappop(q)\n",
    "    \n",
    "    if distance[now] < dist:\n",
    "        continue\n",
    "    \n",
    "    for i in graph[now]:\n",
    "        cost = dist + i[1]\n",
    "        if cost < distance[i[0]]:\n",
    "            distance[i[0]] = cost\n",
    "            heapq.heappush(q, (cost,i[0]))\n",
    "\n",
    "for i in range(1,V+1):\n",
    "    if distance[i] == _INF:\n",
    "        print('INF')\n",
    "    else:\n",
    "        print(distance[i])\n",
    "\n",
    "\n",
    "    \n"
   ]
  }
 ],
 "metadata": {
  "language_info": {
   "name": "python"
  },
  "orig_nbformat": 4
 },
 "nbformat": 4,
 "nbformat_minor": 2
}
