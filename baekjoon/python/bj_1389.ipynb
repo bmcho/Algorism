{
 "cells": [
  {
   "cell_type": "markdown",
   "metadata": {},
   "source": [
    "[케빈 베이컨의 6단계 법칙](https://www.acmicpc.net/problem/1389)"
   ]
  },
  {
   "cell_type": "code",
   "execution_count": null,
   "metadata": {},
   "outputs": [],
   "source": [
    "from collections import defaultdict, deque\n",
    "\n",
    "# n,m = 5,5\n",
    "# graph = [\n",
    "#     [1,3],\n",
    "#     [1,4],\n",
    "#     [4,5],\n",
    "#     [4,3],\n",
    "#     [3,2]\n",
    "# ]\n",
    "n,m = map(int, input().split())\n",
    "graph = []\n",
    "\n",
    "for _ in range(m):\n",
    "    graph.append(list(map(int, input().split())))\n",
    "\n",
    "def sulution(n,m,graph):\n",
    "    answer = [0 for _ in range(n+1)]\n",
    "    dic = defaultdict(list)\n",
    "    \n",
    "    for g in graph:\n",
    "        a,b = g\n",
    "        dic[a].append(b)\n",
    "        dic[b].append(a)\n",
    "    \n",
    "    for i in range(1,n+1):\n",
    "        visit = [0 for _ in range(n+1)]\n",
    "        \n",
    "        q = deque()\n",
    "        q.append([i,dic[i]])\n",
    "        \n",
    "        while q:\n",
    "            k,r = q.popleft()\n",
    "            \n",
    "            for j in r:\n",
    "                if j != i and visit[j] == 0:\n",
    "                    visit[j] = visit[k] + 1\n",
    "                    q.append([j,dic[j]])        \n",
    "\n",
    "        answer[i] = sum(visit)\n",
    "        \n",
    "    \n",
    "    return answer.index(min(answer[1:]))\n",
    "        \n",
    "print(sulution(n,m,graph))"
   ]
  }
 ],
 "metadata": {
  "language_info": {
   "name": "python"
  },
  "orig_nbformat": 4
 },
 "nbformat": 4,
 "nbformat_minor": 2
}
