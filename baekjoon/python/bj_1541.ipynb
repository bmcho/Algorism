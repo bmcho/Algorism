{
 "cells": [
  {
   "cell_type": "markdown",
   "metadata": {},
   "source": [
    "[잃어버린 괄호](https://www.acmicpc.net/problem/1541)"
   ]
  },
  {
   "cell_type": "code",
   "execution_count": null,
   "metadata": {},
   "outputs": [],
   "source": [
    "formula = input()\n",
    "\n",
    "def sulution(formula):\n",
    "    # + 또는 - 만 있는 경우\n",
    "    if not '+' in formula :\n",
    "        f = formula.split('-')\n",
    "        s = int(f[0])\n",
    "        \n",
    "        for i in f[1:]:\n",
    "            s -= int(i)\n",
    "        return s\n",
    "    \n",
    "    if not '-' in formula :\n",
    "        f = formula.split('+')\n",
    "        return sum(map(int, f))\n",
    "    \n",
    "    answer = 0\n",
    "    #그 외  '-' split 하고 각각 나뉜 애들 더하고 전부 = 빼주기\n",
    "    f = formula.split('-')\n",
    "    \n",
    "    for i in range(len(f)):\n",
    "        s = sum(map(int, f[i].split('+')))\n",
    "        if i == 0: answer += s\n",
    "        else: answer -= s\n",
    "    \n",
    "    return answer\n",
    "           \n",
    "print(sulution(formula))"
   ]
  }
 ],
 "metadata": {
  "language_info": {
   "name": "python"
  },
  "orig_nbformat": 4
 },
 "nbformat": 4,
 "nbformat_minor": 2
}
