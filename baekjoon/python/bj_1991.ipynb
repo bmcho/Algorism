{
 "cells": [
  {
   "cell_type": "markdown",
   "metadata": {},
   "source": [
    "[트리 순회](https://www.acmicpc.net/problem/1991)"
   ]
  },
  {
   "cell_type": "code",
   "execution_count": null,
   "metadata": {},
   "outputs": [],
   "source": [
    "from sys import stdin\n",
    "input = stdin.readline\n",
    "\n",
    "N = int(input().strip())\n",
    "tree_node = dict()\n",
    "\n",
    "for _ in range(N):\n",
    "    root,left,right = input().strip().split()\n",
    "    tree_node[root] = [left,right]\n",
    "\n",
    "def preorder(root):\n",
    "    if root != '.':\n",
    "        print(root,end='')\n",
    "        preorder(tree_node[root][0])\n",
    "        preorder(tree_node[root][1])\n",
    "\n",
    "def inorder(root):\n",
    "    if root != '.':\n",
    "        inorder(tree_node[root][0])\n",
    "        print(root,end='')\n",
    "        inorder(tree_node[root][1])\n",
    "\n",
    "def postorder(root):\n",
    "    if root != '.':\n",
    "        postorder(tree_node[root][0])\n",
    "        postorder(tree_node[root][1])\n",
    "        print(root,end='')\n",
    "\n",
    "preorder('A')\n",
    "print()\n",
    "inorder('A')\n",
    "print()\n",
    "postorder('A')\n"
   ]
  }
 ],
 "metadata": {
  "language_info": {
   "name": "python"
  },
  "orig_nbformat": 4
 },
 "nbformat": 4,
 "nbformat_minor": 2
}
