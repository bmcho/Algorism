{
 "cells": [
  {
   "cell_type": "markdown",
   "metadata": {},
   "source": [
    "[거짓말](https://www.acmicpc.net/problem/1043)"
   ]
  },
  {
   "cell_type": "code",
   "execution_count": null,
   "metadata": {},
   "outputs": [],
   "source": [
    "import sys\n",
    "\n",
    "n, m = map(int, sys.stdin.readline().split())\n",
    "truth = set(map(int, sys.stdin.readline().split()[1:]))\n",
    "\n",
    "party = []\n",
    "for _ in range(m):\n",
    "    peaple = set(map(int, sys.stdin.readline().split()[1:]))\n",
    "    party.append(peaple)\n",
    "\n",
    "cnt = [1] * m\n",
    "for _ in range(m):\n",
    "    for i, p in enumerate(party):\n",
    "        if truth & p:\n",
    "            cnt[i] = 0\n",
    "            truth |= p\n",
    "\n",
    "print(sum(cnt))"
   ]
  }
 ],
 "metadata": {
  "language_info": {
   "name": "python"
  },
  "orig_nbformat": 4
 },
 "nbformat": 4,
 "nbformat_minor": 2
}
