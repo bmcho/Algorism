{
 "cells": [
  {
   "cell_type": "markdown",
   "metadata": {},
   "source": [
    "### [2606 바이러스](https://www.acmicpc.net/problem/2606)"
   ]
  },
  {
   "cell_type": "code",
   "execution_count": null,
   "metadata": {},
   "outputs": [],
   "source": [
    "c = int(input())\n",
    "n = int(input())\n",
    "\n",
    "network = dict()\n",
    "visited = [0] * (c+1)\n",
    "\n",
    "for _ in range(n):\n",
    "    s,e = map(int, input().split())\n",
    "    \n",
    "    if s in network.keys():\n",
    "        network[s].append(e)\n",
    "        \n",
    "    else :\n",
    "        network[s] = [e]\n",
    "\n",
    "    if e in network.keys():\n",
    "        network[e].append(s)\n",
    "    else :\n",
    "        network[e] = [s]    \n",
    "\n",
    "q = [1]\n",
    "\n",
    "while q :\n",
    "    nc = q.pop(0)\n",
    "    visited[nc] = 1\n",
    "    \n",
    "    for i in network[nc]:\n",
    "        if visited[i] != 1 :\n",
    "            q.append(i)    \n",
    "    \n",
    "print(visited.count(1) - 1)    "
   ]
  }
 ],
 "metadata": {
  "language_info": {
   "name": "python"
  },
  "orig_nbformat": 4
 },
 "nbformat": 4,
 "nbformat_minor": 2
}
