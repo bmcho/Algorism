{
 "cells": [
  {
   "cell_type": "markdown",
   "metadata": {},
   "source": [
    "[N-Queen](https://www.acmicpc.net/problem/9663)"
   ]
  },
  {
   "cell_type": "code",
   "execution_count": null,
   "metadata": {},
   "outputs": [],
   "source": [
    "from sys import stdin\n",
    "\n",
    "input = stdin.readline\n",
    "answer = 0\n",
    "N = int(input())\n",
    "\n",
    "\n",
    "# 퀸특성상 같은 row에는 존재 할수 없기 때문에 다음과 같이 1차원 \n",
    "# 배열로도 표현 가능\n",
    "chess_board = [0] * N\n",
    "\n",
    "def is_check(x):\n",
    "    for i in range(x):\n",
    "        if (chess_board[x] == chess_board[i] \n",
    "            or abs(chess_board[x] - chess_board[i]) == x - i):\n",
    "            return False\n",
    "    \n",
    "    return True\n",
    "\n",
    "def dfs(x):\n",
    "    global answer\n",
    "    if x == N:\n",
    "        answer += 1\n",
    "    else:\n",
    "        for i in range(N):\n",
    "            chess_board[x] = i\n",
    "            if is_check(x):\n",
    "                dfs(x + 1)\n",
    "        \n",
    "dfs(0)\n",
    "print(answer)\n"
   ]
  }
 ],
 "metadata": {
  "language_info": {
   "name": "python"
  },
  "orig_nbformat": 4
 },
 "nbformat": 4,
 "nbformat_minor": 2
}
