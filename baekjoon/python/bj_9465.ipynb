{
 "cells": [
  {
   "cell_type": "markdown",
   "metadata": {},
   "source": [
    "[스티커](https://www.acmicpc.net/problem/9465)"
   ]
  },
  {
   "cell_type": "code",
   "execution_count": null,
   "metadata": {},
   "outputs": [],
   "source": [
    "from sys import stdin\n",
    "\n",
    "input = stdin.readline\n",
    "\n",
    "T = int(input())\n",
    "\n",
    "for _ in range(T):\n",
    "    N = int(input())\n",
    "    sticker = []\n",
    "\n",
    "    for _ in range(2):\n",
    "        temp = list(map(int, input().split()))\n",
    "        sticker.append(temp)\n",
    "    \n",
    "    if N != 1:\n",
    "        sticker[0][1] += sticker[1][0]\n",
    "        sticker[1][1] += sticker[0][0]\n",
    "\n",
    "    for i in range(2,N):\n",
    "        sticker[0][i] += max(sticker[1][i-2],sticker[1][i-1])\n",
    "        sticker[1][i] += max(sticker[0][i-2],sticker[0][i-1])\n",
    "\n",
    "    print(max(sticker[0][-1],sticker[1][-1]))"
   ]
  }
 ],
 "metadata": {
  "kernelspec": {
   "display_name": "Python 3.10.6 64-bit (windows store)",
   "language": "python",
   "name": "python3"
  },
  "language_info": {
   "name": "python",
   "version": "3.10.6"
  },
  "orig_nbformat": 4,
  "vscode": {
   "interpreter": {
    "hash": "3e66c52ac73d53c605744c4f135281b5cf9eeee7b08604677114bdfc3d95a0a1"
   }
  }
 },
 "nbformat": 4,
 "nbformat_minor": 2
}
