{
 "cells": [
  {
   "cell_type": "markdown",
   "metadata": {},
   "source": [
    "### [2668번 숫자고르기](https://www.acmicpc.net/problem/2668)"
   ]
  },
  {
   "cell_type": "code",
   "execution_count": null,
   "metadata": {},
   "outputs": [],
   "source": [
    "'''\n",
    "그래프 문제들을 너무 bfs로 푼 탓일까 dfs적인 사고를 하기 힘든것 같다.\n",
    "항상 비슷한 유형의 문제가 나오면 평소보다 배로 헤매는 느낌\n",
    "이 문제의 핵심은 \n",
    "두개의 row를 그래프로 바꿔주는것이다.\n",
    "1: [2,3]\n",
    "2: []\n",
    "3: [1]\n",
    "...\n",
    "'''\n",
    "\n",
    "def dfs(s,d):\n",
    "    visited[s] = 1\n",
    "    \n",
    "    for l in arr[s]:\n",
    "        if not visited[l] :\n",
    "            dfs(l,d)\n",
    "        elif visited[l] and l == d:\n",
    "            result.append(l)\n",
    "\n",
    "n = int(input())\n",
    "\n",
    "arr = [[] for _ in range(n+1)]\n",
    "\n",
    "for i in range(1, n+1):\n",
    "    arr[int(input())].append(i)\n",
    "    \n",
    "result = []\n",
    "for i in range(1, n+1):\n",
    "    visited = [0] * (n+1)\n",
    "    dfs(i,i)\n",
    "        \n",
    "print(len(result))\n",
    "print(*result, sep='\\n')\n"
   ]
  }
 ],
 "metadata": {
  "interpreter": {
   "hash": "dcacb0086e9a4f4eabd41c33bf4faac5ea0a3337ed3f5eff0680afa930572c04"
  },
  "kernelspec": {
   "display_name": "Python 3.9.6 64-bit",
   "language": "python",
   "name": "python3"
  },
  "language_info": {
   "name": "python",
   "version": "3.9.6"
  },
  "orig_nbformat": 4
 },
 "nbformat": 4,
 "nbformat_minor": 2
}
