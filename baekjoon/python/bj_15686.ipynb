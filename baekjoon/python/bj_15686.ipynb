{
 "cells": [
  {
   "cell_type": "markdown",
   "metadata": {},
   "source": [
    "[치킨 배달](https://www.acmicpc.net/problem/15686)"
   ]
  },
  {
   "cell_type": "code",
   "execution_count": null,
   "metadata": {},
   "outputs": [],
   "source": [
    "import itertools\n",
    "\n",
    "n,m = map(int, input().split())\n",
    "st = [list(map(int, input().split())) for _ in range(n)]\n",
    "\n",
    "chicken = []\n",
    "house = []\n",
    "for i in range(n):\n",
    "    for j in range(n):\n",
    "      if st[i][j] == 2:\n",
    "        chicken.append((i,j))\n",
    "      elif st[i][j] == 1:\n",
    "        house.append((i,j))\n",
    "\n",
    "combi = list(itertools.combinations(chicken,m))\n",
    "answer = float('inf')\n",
    "\n",
    "for chickens in combi:\n",
    "  total_chi_st = 0\n",
    "  for h in house:\n",
    "    chi_st = float('inf')\n",
    "    for c in chickens:\n",
    "      chi_st = min(chi_st, abs(h[0] - c[0]) + abs(h[1] - c[1]))\n",
    "\n",
    "    total_chi_st += chi_st\n",
    "  \n",
    "  answer = min(answer, total_chi_st)\n",
    "\n",
    "print(answer)\n",
    "    "
   ]
  }
 ],
 "metadata": {
  "language_info": {
   "name": "python"
  },
  "orig_nbformat": 4
 },
 "nbformat": 4,
 "nbformat_minor": 2
}
