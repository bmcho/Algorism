{
 "cells": [
  {
   "cell_type": "markdown",
   "metadata": {},
   "source": [
    "[숨바꼭질2](https://www.acmicpc.net/problem/12851)"
   ]
  },
  {
   "cell_type": "code",
   "execution_count": null,
   "metadata": {},
   "outputs": [],
   "source": [
    "from collections import deque\n",
    "\n",
    "n,k = map(int, input().split())\n",
    "MAX_SIZE = 100001\n",
    "\n",
    "visited = [-1] * MAX_SIZE\n",
    "\n",
    "q = deque()\n",
    "q.append(n)\n",
    "\n",
    "visited[n] = 0\n",
    "\n",
    "count = 0\n",
    "while q:\n",
    "    loc =  q.popleft()\n",
    "\n",
    "    if loc == k:\n",
    "        count += 1\n",
    "    \n",
    "    for next_loc in [loc * 2, loc + 1, loc - 1]:\n",
    "        if 0 <= next_loc < MAX_SIZE:\n",
    "            # visited[next_loc]<=visited[loc]+1\n",
    "            # 이 경우에는 어떻게든 최소 경로가 나오지 않기 때문에 제외\n",
    "            # visited[next_loc]>=visited[loc]+1\n",
    "            # 중복허용이 되기 때문에 초가 같으면 추가\n",
    "            if visited[next_loc]==-1 or visited[next_loc]>=visited[loc]+1: \n",
    "                visited[next_loc]=visited[loc]+1\n",
    "                q.append(next_loc)\n",
    "\n",
    "print(visited[k])\n",
    "print(count)"
   ]
  }
 ],
 "metadata": {
  "language_info": {
   "name": "python"
  },
  "orig_nbformat": 4
 },
 "nbformat": 4,
 "nbformat_minor": 2
}
