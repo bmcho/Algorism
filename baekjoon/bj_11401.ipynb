{
 "cells": [
  {
   "cell_type": "markdown",
   "metadata": {},
   "source": [
    "### [11401번 이항계수3](https://www.acmicpc.net/problem/11401)"
   ]
  },
  {
   "cell_type": "code",
   "execution_count": null,
   "metadata": {},
   "outputs": [],
   "source": [
    "'''\n",
    "이항계수(n/k)는\n",
    "n!/k!(n-k)!\n",
    "\n",
    "하지만 \n",
    "n이 최대  4,000,000이기 때문에\n",
    "!로 구하면 시간초과가 나올것이다.\n",
    "dp로 구해보자\n",
    "'''"
   ]
  },
  {
   "cell_type": "code",
   "execution_count": null,
   "metadata": {},
   "outputs": [],
   "source": [
    "'''\n",
    "메모리 초과...\n",
    "당연하네.. 4000000! 의 값이.. long타입도 훨씬 넘지 \n",
    "애초에 fac저장할때 % 1000000007 해서 저장하자\n",
    "'''\n",
    "from sys import stdin\n",
    "\n",
    "n,k = map(int, stdin.readline().split())\n",
    "\n",
    "fac = [0,1] + [0 for _ in range(n-1)]\n",
    "\n",
    "#!구하기\n",
    "for i in range(2,len(fac)):\n",
    "  fac[i] = fac[i-1] * i\n",
    "\n",
    "\n",
    "#이항계수 n!/k!(n-k)!\n",
    "c = fac[n] / (fac[k]*fac[n-k])\n",
    "\n",
    "print(c % 1000000007)\n",
    "\n"
   ]
  },
  {
   "cell_type": "code",
   "execution_count": null,
   "metadata": {},
   "outputs": [],
   "source": [
    "from sys import stdin\n",
    "\n",
    "n,k = map(int, stdin.readline().split())\n",
    "mod = 1000000007\n",
    "\n",
    "fac = [0,1] + [0 for _ in range(n-1)]\n",
    "\n",
    "#!구하기\n",
    "for i in range(2,len(fac)):\n",
    "  fac[i] = fac[i-1] * i % mod\n",
    "\n",
    "\n",
    "#이항계수 n!/k!(n-k)!\n",
    "c = fac[n] / (fac[k]*fac[n-k])\n",
    "\n",
    "print(c)\n",
    "\n",
    "'''\n",
    "좀 더 찾아보니 페르마의 소정리를 사용해야한다고 한다\n",
    "'''"
   ]
  },
  {
   "cell_type": "markdown",
   "metadata": {},
   "source": [
    "A = n!\n",
    "B = (k!(n-k)!)\n",
    "\n",
    "nCk = A / B = A * B^-1\n",
    "\n",
    "nCk%P = ( A % P ) * ( (B^-1) % P )\n",
    "\n",
    "nCk%P = ( A % P ) * ( B^p-2 % P )"
   ]
  },
  {
   "cell_type": "code",
   "execution_count": null,
   "metadata": {},
   "outputs": [],
   "source": [
    "'''\n",
    "나에게는 아직 어렵다.\n",
    "핵심은 페르마의 소정리, 기존 O(n)의 거듭제곱을 분할정복을통해 Olog(n) 만든것..\n",
    "\n",
    "페르마의 소정리로 바꾼이유는 B 분모가 0이면 계산이 불가능하기 때문에 \n",
    "\n",
    "나중에 다시 확인해보자\n",
    "'''\n",
    "\n",
    "from sys import stdin\n",
    "p = 1000000007\n",
    "\n",
    "def power(a, b):\n",
    "  if b == 0:\n",
    "      return 1\n",
    "  if b % 2:  # 홀수이면\n",
    "      return (power(a, b // 2) ** 2 * a) % p\n",
    "  else:\n",
    "      return (power(a, b // 2) ** 2) % p\n",
    "\n",
    "n,k = map(int, stdin.readline().split())\n",
    "\n",
    "# nCk를 나타내기 위해 팩토리얼을 dp로 구해줍니다.\n",
    "fact = [1 for _ in range(N + 1)]\n",
    "\n",
    "for i in range(2, N + 1):\n",
    "    fact[i] = fact[i - 1] * i % p\n",
    "\n",
    "A = fact[N]\n",
    "B = (fact[N - K] * fact[K]) % p\n",
    "\n",
    "print((A % p) * (power(B, p - 2) % p) % p)"
   ]
  }
 ],
 "metadata": {
  "interpreter": {
   "hash": "dcacb0086e9a4f4eabd41c33bf4faac5ea0a3337ed3f5eff0680afa930572c04"
  },
  "kernelspec": {
   "display_name": "Python 3.9.6 64-bit",
   "language": "python",
   "name": "python3"
  },
  "language_info": {
   "name": "python",
   "version": "3.9.6"
  },
  "orig_nbformat": 4
 },
 "nbformat": 4,
 "nbformat_minor": 2
}
