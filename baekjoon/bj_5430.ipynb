{
 "cells": [
  {
   "cell_type": "markdown",
   "metadata": {},
   "source": [
    "[AC](https://www.acmicpc.net/problem/5430)"
   ]
  },
  {
   "cell_type": "code",
   "execution_count": null,
   "metadata": {},
   "outputs": [],
   "source": [
    "T = int(input())\n",
    "\n",
    "def sulution(T):\n",
    "    answer = []\n",
    "    for _ in range(T):\n",
    "        func = input()\n",
    "\n",
    "        n = int(input())\n",
    "        \n",
    "        del_cnt = func.count('D')\n",
    "        num = input().replace('[','').replace(']','').split(',')\n",
    "        \n",
    "        if  (n == 0 and 'D' in func) or del_cnt > len(num):\n",
    "            answer.append('error')\n",
    "            continue\n",
    "        \n",
    "        stack = []\n",
    "        for f in func:\n",
    "            # 'D'인데 stack에 있다면 RD와 같은것\n",
    "            if f == 'D':\n",
    "                if stack: del num[-1]\n",
    "                if not stack: del num[0]\n",
    "            elif f == 'R':\n",
    "                if stack: stack.clear()\n",
    "                else: stack.append(f)\n",
    "        \n",
    "        if stack: num = '['+','.join(num[::-1])+']'    \n",
    "        else: num = '['+','.join(num)+']'\n",
    "        answer.append(num)\n",
    "\n",
    "    for a in answer:\n",
    "        print(a)\n",
    "           \n",
    "sulution(T)\n",
    "\n",
    "\n"
   ]
  }
 ],
 "metadata": {
  "language_info": {
   "name": "python"
  },
  "orig_nbformat": 4
 },
 "nbformat": 4,
 "nbformat_minor": 2
}
