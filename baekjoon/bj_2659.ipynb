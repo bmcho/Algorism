{
 "cells": [
  {
   "cell_type": "markdown",
   "metadata": {},
   "source": [
    "### [2659 십자카드](https://www.acmicpc.net/problem/2659)"
   ]
  },
  {
   "cell_type": "code",
   "execution_count": null,
   "metadata": {},
   "outputs": [],
   "source": [
    "'''\n",
    "처음에는 set을 이용해 보려고했으나\n",
    "1112, 1122와 같은 경우에는 set으로 판별이 불가능했다.\n",
    "\n",
    "그래서 다음 방법으로 변경\n",
    "처음에는 get_num부분의 num을 구하는 식을 list slice로 처리했었지만\n",
    "블로그 글을 참고하여 다음과 같이 바뀐것이다.\n",
    "\n",
    "1234,2341,3412,4123과 같이 들어온다.\n",
    "0이 존재할경우 위와같이 루프를 타다보면 0이 맨앞으로 오게 됨으로 get_num == i가 성립하지 않는다\n",
    "'''\n",
    "def get_num(num:int):\n",
    "  minNum = num\n",
    "  for _ in range(1,4):\n",
    "    num = (num % 1000) * 10 + num // 1000\n",
    "\n",
    "    minNum = min(minNum, num)\n",
    "\n",
    "  return minNum\n",
    "\n",
    "n = get_num(int(''.join(input().split())))\n",
    "\n",
    "cnt = 1\n",
    "for i in range(1111,n):\n",
    "  \n",
    "  if get_num(i) == i :\n",
    "    cnt+=1\n",
    "\n",
    "print(cnt)"
   ]
  }
 ],
 "metadata": {
  "language_info": {
   "name": "python"
  },
  "orig_nbformat": 4
 },
 "nbformat": 4,
 "nbformat_minor": 2
}
