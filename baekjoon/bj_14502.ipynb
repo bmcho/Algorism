{
 "cells": [
  {
   "cell_type": "markdown",
   "metadata": {},
   "source": [
    "[연구소](https://www.acmicpc.net/problem/14502)"
   ]
  },
  {
   "cell_type": "code",
   "execution_count": null,
   "metadata": {},
   "outputs": [],
   "source": [
    "\"\"\"\n",
    "처음에 문제를 보고 제한 시간내에 구현이 가능할지 의문이 들었지만 제한시간 2초와 작은 수의 크기제한을 보고 안심했다.\n",
    "입력받은 수가 작기 때문에 처음부터, area와 virus를 구분하고 벽을 세울수 있는 모든 경우에 수에 bfs를 수행한다.\n",
    "그 중 안전지대가 가장 많은 것을 찾으면 된다.\n",
    "\"\"\"\n",
    "import sys, copy\n",
    "from collections import deque\n",
    "\n",
    "n,m = map(int, sys.stdin.readline().split())\n",
    "\n",
    "max_safe_area = 0\n",
    "\n",
    "dx = [0,0,-1,1]\n",
    "dy = [-1,1,0,0]\n",
    "\n",
    "graph = [list(map(int, sys.stdin.readline().split())) for _ in range(n)]\n",
    "\n",
    "virus = []\n",
    "area = []\n",
    "\n",
    "for i in range(n):\n",
    "    for j in range(m):\n",
    "        if graph[i][j] == 0:\n",
    "            area.append((i,j)) \n",
    "        elif graph[i][j] == 2:  \n",
    "            virus.append((i,j))     \n",
    "\n",
    "def bfs(copy_graph):\n",
    "    global max_safe_area\n",
    "\n",
    "    safe_area = 0\n",
    "\n",
    "    q = deque(virus)\n",
    "\n",
    "    while q:\n",
    "        x,y = q.popleft()\n",
    "\n",
    "        for i in range(4):\n",
    "            nx = x + dx[i]\n",
    "            ny = y + dy[i]\n",
    "\n",
    "            if nx < 0 or nx >= n or ny < 0 or ny >= m:\n",
    "                continue\n",
    "\n",
    "            if copy_graph[nx][ny] == 0:\n",
    "                q.append((nx,ny))\n",
    "                copy_graph[nx][ny] = 2\n",
    "    \n",
    "\n",
    "    for i in range(n):\n",
    "        safe_area += copy_graph[i].count(0)\n",
    "\n",
    "    max_safe_area = max(max_safe_area, safe_area)\n",
    "\n",
    "for i in range(len(area)):\n",
    "    x1,y1 = area[i]\n",
    "    graph[x1][y1] = 1\n",
    "\n",
    "    for j in range(i+1,len(area)):\n",
    "        x2,y2 = area[j]\n",
    "        graph[x2][y2] = 1\n",
    "\n",
    "        for k in range(j+1,len(area)):\n",
    "            x3,y3 = area[k]\n",
    "            graph[x3][y3] = 1\n",
    "\n",
    "            bfs(copy.deepcopy(graph))\n",
    "\n",
    "            graph[x3][y3] = 0\n",
    "        graph[x2][y2] = 0\n",
    "    graph[x1][y1] = 0\n",
    "\n",
    "print(max_safe_area)"
   ]
  }
 ],
 "metadata": {
  "kernelspec": {
   "display_name": "Python 3.10.5 64-bit",
   "language": "python",
   "name": "python3"
  },
  "language_info": {
   "name": "python",
   "version": "3.10.5"
  },
  "orig_nbformat": 4,
  "vscode": {
   "interpreter": {
    "hash": "a42ccb73e7d9bfdf27e036f1d2b8b681e55fc0743cc5586bc2474d4a60f4b886"
   }
  }
 },
 "nbformat": 4,
 "nbformat_minor": 2
}
