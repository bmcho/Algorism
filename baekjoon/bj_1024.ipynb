{
 "cells": [
  {
   "cell_type": "markdown",
   "metadata": {},
   "source": [
    "### [1024번 수열의 합](https://www.acmicpc.net/problem/1024)\n",
    "\n",
    "#### 수학공식 이용\n",
    "##### 수열의 합 공식인 n = L(L+1)/2 이용하면 된다\n",
    "##### 수열의 합 N에 대하여 길이가 L인 수열의 합은 N = Lx + L(L+1)/2 이며 \n",
    "##### Lx = N - (L(L+1)/2) 이다"
   ]
  },
  {
   "cell_type": "code",
   "execution_count": null,
   "metadata": {},
   "outputs": [],
   "source": [
    "'''\n",
    "실패\n",
    "Lx가 음수가 아닌 x의 값이 음수면 안되기 때문에 if의 위치가 잘못되었다\n",
    "if x := Lx % L == 0 : 이부분 코리끼 문법 잘못됨\n",
    "'''\n",
    "N, L = map(int,input().split())\n",
    "\n",
    "def solution(N,L) :\n",
    "    #최소 L개의 수를 가진 수열이므로 L부터 100까지 for문\n",
    "    for i in range(L,101) :\n",
    "        Lx = N - (i * (i + 1) / 2)\n",
    "\n",
    "        #Lx는 x를 L개 만큼 곱한 수 이기때문에 Lx을 수열의 길이만큼인 L로 나눴을때 0이 나와야하며 Lx는 0보다 커야한다\n",
    "        if Lx < 0 : return -1\n",
    "\n",
    "        if x := Lx % L == 0 :\n",
    "            lst = []\n",
    "            for j in range(1, i + 1) :\n",
    "                lst.append(x + j)\n",
    "            \n",
    "            return ' '.join(lst)\n",
    "\n",
    "    return -1\n",
    "\n",
    "print(solution(N,L))\n"
   ]
  },
  {
   "cell_type": "code",
   "execution_count": null,
   "metadata": {},
   "outputs": [],
   "source": [
    "'''\n",
    "성공\n",
    "'''\n",
    "N, L = map(int,input().split())\n",
    "\n",
    "def solution(N,L) :\n",
    "    #최소 L개의 수를 가진 수열이므로 L부터 100까지 for문\n",
    "    for i in range(L,101) :\n",
    "        Ix = N - (i * (i + 1) / 2)\n",
    "\n",
    "        #Ix는 x를 i개 만큼 곱한 수 이기때문에 Ix을 수열의 길이만큼인 I로 나눴을때 0이 나와야한다\n",
    "        if Ix % i == 0 :\n",
    "            x = Ix//i\n",
    "            lst = []\n",
    "            #(x+1) + (x+2)의 형식이기때문에 0부터 시작인 수열의 경우, x는 -1까지 가능하다\n",
    "            if Ix < -1 : return -1\n",
    "            for j in range(1, i + 1) :\n",
    "                lst.append(x + j)\n",
    "            \n",
    "            return ' '.join(lst)\n",
    "\n",
    "    return -1\n",
    "\n",
    "print(solution(N,L))\n"
   ]
  }
 ],
 "metadata": {
  "language_info": {
   "name": "python"
  },
  "orig_nbformat": 4
 },
 "nbformat": 4,
 "nbformat_minor": 2
}
