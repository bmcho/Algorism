{
 "cells": [
  {
   "cell_type": "markdown",
   "metadata": {},
   "source": [
    "### [1072번 게임](https://www.acmicpc.net/problem/1072)\n",
    "\n"
   ]
  },
  {
   "cell_type": "code",
   "execution_count": null,
   "metadata": {},
   "outputs": [],
   "source": [
    "'''\n",
    "예상대로 시간 초과\n",
    "이분 탐색으로 해야할듯??\n",
    "'''\n",
    "from math import floor\n",
    "\n",
    "mean = lambda x,y : floor(y / x * 100)\n",
    "\n",
    "x, y = map(int, input().split())\n",
    "    \n",
    "z = mean(x,y)\n",
    "zz = mean(x,y)\n",
    "\n",
    "if z == 100 :\n",
    "    print(-1)\n",
    "    exit()\n",
    "\n",
    "cnt = 0\n",
    "while z == zz :\n",
    "    cnt += 1\n",
    "    x += 1\n",
    "    y += 1\n",
    "    zz = mean(x,y)\n",
    "\n",
    "print(cnt)"
   ]
  },
  {
   "cell_type": "code",
   "execution_count": null,
   "metadata": {},
   "outputs": [],
   "source": [
    "'''\n",
    "floor을 빼버리고 //연산자로 바꿈\n",
    "zz와 z가 같을때까지 이분 탐색으로 찾는다\n",
    "zz와 z가 같다면 결국 left가 right보다 커지므로 이전 mid의값을 result값으로 가져온다\n",
    "'''\n",
    "mean = lambda x,y : y * 100 // x\n",
    "\n",
    "x, y = map(int, input().split())\n",
    "z = mean(x,y)\n",
    "\n",
    "if z >= 99 :\n",
    "    print(-1)\n",
    "    exit()\n",
    "\n",
    "left = 0\n",
    "right = 1000000000\n",
    "\n",
    "result = 0\n",
    "while left <= right :\n",
    "    mid = (left+right)//2\n",
    "    zz = mean(x+mid,y+mid)\n",
    "    if zz > z :\n",
    "        right = mid - 1\n",
    "        result = mid\n",
    "    else :\n",
    "        left = mid + 1\n",
    "\n",
    "print(result)"
   ]
  }
 ],
 "metadata": {
  "language_info": {
   "name": "python"
  },
  "orig_nbformat": 4
 },
 "nbformat": 4,
 "nbformat_minor": 2
}
