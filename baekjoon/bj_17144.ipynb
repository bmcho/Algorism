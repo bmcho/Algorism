{
 "cells": [
  {
   "cell_type": "markdown",
   "metadata": {},
   "source": [
    "[미세먼지 안녕](https://www.acmicpc.net/problem/17144)"
   ]
  },
  {
   "cell_type": "code",
   "execution_count": null,
   "metadata": {},
   "outputs": [],
   "source": [
    "import sys\n",
    "\n",
    "r,c,t = map(int,sys.stdin.readline().split())\n",
    "grid = []\n",
    "for _ in range(r):\n",
    "    grid.append(list(map(int, sys.stdin.readline().split())))\n",
    "\n",
    "up,down  = 0,0\n",
    "for i in range(r):\n",
    "    if grid[i][0] == -1:\n",
    "        up,down = i, i + 1\n",
    "        break\n",
    "\n",
    "for _ in range(t):\n",
    "    dx = [-1, 0, 0, 1]\n",
    "    dy = [0, -1, 1, 0]\n",
    "    #확산\n",
    "    t_grid = [[0 for _ in range(c)] for _ in range(r)]\n",
    "    for i in range(r):\n",
    "        for j in range(c):\n",
    "            if grid[i][j] != 0 and grid[i][j] != -1:\n",
    "                s = grid[i][j] // 5\n",
    "                m = 0\n",
    "                for k in range(4):\n",
    "                    nx = dx[k] + i\n",
    "                    ny = dy[k] + j\n",
    "                    if 0 <= nx < r and 0 <= ny < c and grid[nx][ny] != -1:\n",
    "                        t_grid[nx][ny] += s\n",
    "                        m += s\n",
    "                grid[i][j] -= m\n",
    "\n",
    "    for i in range(r):\n",
    "        for j in range(c):\n",
    "            grid[i][j] += t_grid[i][j]\n",
    "\n",
    "    #up\n",
    "    dx = [0, -1, 0, 1]\n",
    "    dy = [1, 0, -1, 0]\n",
    "    x,y = up,1\n",
    "    d,t = 0,0\n",
    "    while True:\n",
    "        if x == up and y == 0: break\n",
    "        nx, ny = dx[d] + x, dy[d] + y\n",
    "        if nx < 0 or nx >= r or ny < 0 or ny >= c:\n",
    "            d += 1\n",
    "            continue\n",
    "        \n",
    "        grid[x][y], t = t, grid[x][y]\n",
    "        x = nx\n",
    "        y = ny\n",
    "\n",
    "    #down\n",
    "    dx = [0, 1, 0, -1]\n",
    "    dy = [1, 0, -1, 0]\n",
    "    x,y = [down,1]   \n",
    "    d,t = 0,0\n",
    "    while True:\n",
    "        if x == down and y == 0: break\n",
    "        nx, ny = dx[d] + x, dy[d] + y\n",
    "\n",
    "        if nx < 0 or nx >= r or ny < 0 or ny >= c:\n",
    "            d += 1\n",
    "            continue\n",
    "        \n",
    "        grid[x][y], t = t, grid[x][y]\n",
    "        x = nx\n",
    "        y = ny\n",
    "\n",
    "answer = 0\n",
    "for i in range(r):\n",
    "    for j in range(c):\n",
    "        if grid[i][j] > 0:\n",
    "            answer += grid[i][j]\n",
    "\n",
    "print(answer)"
   ]
  }
 ],
 "metadata": {
  "kernelspec": {
   "display_name": "Python 3.10.5 64-bit",
   "language": "python",
   "name": "python3"
  },
  "language_info": {
   "name": "python",
   "version": "3.10.5"
  },
  "orig_nbformat": 4,
  "vscode": {
   "interpreter": {
    "hash": "a42ccb73e7d9bfdf27e036f1d2b8b681e55fc0743cc5586bc2474d4a60f4b886"
   }
  }
 },
 "nbformat": 4,
 "nbformat_minor": 2
}
