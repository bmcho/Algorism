{
 "cells": [
  {
   "cell_type": "markdown",
   "metadata": {},
   "source": [
    "### [2178 미로탐색](https://www.acmicpc.net/problem/2178)"
   ]
  },
  {
   "cell_type": "code",
   "execution_count": null,
   "metadata": {},
   "outputs": [],
   "source": [
    "'''\n",
    "처음에 실패를 하는 바람애 왜 그런지 코드를 봤더니\n",
    "q.pop()으로 해놨었다..\n",
    "'''\n",
    "from sys import stdin\n",
    "\n",
    "dx = [1,-1,0,0]\n",
    "dy = [0,0,1,-1]\n",
    "\n",
    "N,M = map(int, stdin.readline().split())\n",
    "visited = [[0] * (M+1) for _ in range(N+1)]\n",
    "borad = ['0' * (M+1)]\n",
    "\n",
    "for _ in range(N):\n",
    "    borad.append('0'+ stdin.readline().strip())\n",
    "\n",
    "'''\n",
    "bfs\n",
    "'''\n",
    "q = []\n",
    "q.append([1,1])\n",
    "visited[1][1] = 1\n",
    "\n",
    "while q :\n",
    "    y,x = q.pop(0)\n",
    "    for i in range(4):\n",
    "        my = y + dy[i]\n",
    "        mx = x + dx[i]\n",
    "        \n",
    "        if my < 1 or mx < 1 or my > N or mx > M :\n",
    "            continue\n",
    "        \n",
    "        if visited[my][mx] == 0 and borad[my][mx] != '0':\n",
    "            visited[my][mx] = visited[y][x] + 1\n",
    "            q.append([my, mx])\n",
    "    \n",
    "print(visited[-1][-1])"
   ]
  }
 ],
 "metadata": {
  "interpreter": {
   "hash": "1614970ef53f4adc88a43c1b0d018fcb267668e8e915574a745cf4979ce27b89"
  },
  "kernelspec": {
   "display_name": "Python 3.10.4 64-bit (windows store)",
   "language": "python",
   "name": "python3"
  },
  "language_info": {
   "name": "python",
   "version": "3.10.4"
  },
  "orig_nbformat": 4
 },
 "nbformat": 4,
 "nbformat_minor": 2
}
