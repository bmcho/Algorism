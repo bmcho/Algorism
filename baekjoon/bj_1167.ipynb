{
 "cells": [
  {
   "cell_type": "markdown",
   "metadata": {},
   "source": [
    "[트리의지름](https://www.acmicpc.net/problem/1167)\n",
    "\n",
    "처음에는 1부터 점번호 v까지 점 하나하나 시작지점을 두고 각각의 트리의 지름을 구하려고 했다.<br>\n",
    "근데 v는 최대 100000이므로 ...  dfs,bfs 시 시간복잡도 최대 100000**2 가 나온다 한참 고민했다<br>\n",
    "[해당블로그](https://blog.myungwoo.kr/112)와 다른 사람들의 풀이를 보고 이해를 할 수 있었다."
   ]
  },
  {
   "cell_type": "code",
   "execution_count": null,
   "metadata": {},
   "outputs": [],
   "source": [
    "import sys\n",
    "from collections import defaultdict\n",
    "n = int(sys.stdin.readline())\n",
    "tree = defaultdict(list)\n",
    "\n",
    "for _ in range(n):\n",
    "    node = list(map(int,sys.stdin.readline().split()))\n",
    "    for i in range(1,len(node)-1,2):\n",
    "        #직전노드, 현재노드, 노드거리\n",
    "        tree[node[0]].append((node[i],node[i+1]))\n",
    "\n",
    "def dfs(pn, r):\n",
    "    for node,dis in tree[pn]:\n",
    "        if r[node] ==  0:\n",
    "            r[node] = r[pn] + dis\n",
    "            dfs(node, r)\n",
    "\n",
    "dis1 = [0] * (n+1)\n",
    "dfs(1,dis1)\n",
    "dis1[1] = 0\n",
    "\n",
    "max_dis = max(dis1)\n",
    "max_index = dis1.index(max_dis)\n",
    "\n",
    "dis2 = [0] * (n+1)\n",
    "dfs(max_index,dis2)\n",
    "dis2[max_index] = 0\n",
    "\n",
    "print(max(dis2))"
   ]
  }
 ],
 "metadata": {
  "language_info": {
   "name": "python"
  },
  "orig_nbformat": 4
 },
 "nbformat": 4,
 "nbformat_minor": 2
}
